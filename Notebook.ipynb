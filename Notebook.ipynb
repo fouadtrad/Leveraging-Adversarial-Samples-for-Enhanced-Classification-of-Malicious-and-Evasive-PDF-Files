{
  "nbformat": 4,
  "nbformat_minor": 0,
  "metadata": {
    "colab": {
      "provenance": []
    },
    "kernelspec": {
      "name": "python3",
      "display_name": "Python 3"
    },
    "language_info": {
      "name": "python"
    }
  },
  "cells": [
    {
      "cell_type": "markdown",
      "source": [
        "#Leveraging Ensemble Adversarial Training to Build More Robust PDF Malware Classifiers\n",
        "\n",
        "---\n",
        "The goal of the study is to contribute to building more robust PDF malware classifiers by relying on Adversarial Training. For this reason, we propose 3 architectures that can help in the process.\n"
      ],
      "metadata": {
        "id": "S2SiO-t8T_KZ"
      }
    },
    {
      "cell_type": "markdown",
      "source": [
        "### Cloning the Github Repo"
      ],
      "metadata": {
        "id": "kiB31Qakh8Ua"
      }
    },
    {
      "cell_type": "code",
      "source": [
        "!git clone https://github.com/fouadtrad/Leveraging-Adversarial-Samples-for-Enhanced-Classification-of-Malicious-and-Evasive-PDF-Files"
      ],
      "metadata": {
        "colab": {
          "base_uri": "https://localhost:8080/"
        },
        "id": "fEh9-soqiKRT",
        "outputId": "1f23dd49-dc2a-4e24-907a-e88a22de073a"
      },
      "execution_count": 2,
      "outputs": [
        {
          "output_type": "stream",
          "name": "stdout",
          "text": [
            "Cloning into 'Leveraging-Adversarial-Samples-for-Enhanced-Classification-of-Malicious-and-Evasive-PDF-Files'...\n",
            "remote: Enumerating objects: 21, done.\u001b[K\n",
            "remote: Counting objects: 100% (21/21), done.\u001b[K\n",
            "remote: Compressing objects: 100% (20/20), done.\u001b[K\n",
            "remote: Total 21 (delta 8), reused 0 (delta 0), pack-reused 0\u001b[K\n",
            "Unpacking objects: 100% (21/21), 26.08 MiB | 4.75 MiB/s, done.\n"
          ]
        }
      ]
    },
    {
      "cell_type": "code",
      "source": [
        "!unzip \"/content/Leveraging-Adversarial-Samples-for-Enhanced-Classification-of-Malicious-and-Evasive-PDF-Files/Training Data.zip\"\n",
        "!unzip \"/content/Leveraging-Adversarial-Samples-for-Enhanced-Classification-of-Malicious-and-Evasive-PDF-Files/University_Testing_data.zip\""
      ],
      "metadata": {
        "colab": {
          "base_uri": "https://localhost:8080/"
        },
        "id": "xUF3Yjp1hgvr",
        "outputId": "18cd16e9-5884-4c64-a72e-98fea4ae1749"
      },
      "execution_count": 4,
      "outputs": [
        {
          "output_type": "stream",
          "name": "stdout",
          "text": [
            "Archive:  /content/Leveraging-Adversarial-Samples-for-Enhanced-Classification-of-Malicious-and-Evasive-PDF-Files/Training Data.zip\n",
            "replace evasive.csv? [y]es, [n]o, [A]ll, [N]one, [r]ename: A\n",
            "  inflating: evasive.csv             \n",
            "  inflating: non_evasive.csv         \n",
            "Archive:  /content/Leveraging-Adversarial-Samples-for-Enhanced-Classification-of-Malicious-and-Evasive-PDF-Files/University_Testing_data.zip\n",
            "  inflating: classifier_university_1.csv  \n"
          ]
        }
      ]
    },
    {
      "cell_type": "markdown",
      "source": [
        "## Importing the libraries"
      ],
      "metadata": {
        "id": "_AUj5RnpiIBR"
      }
    },
    {
      "cell_type": "code",
      "execution_count": 6,
      "metadata": {
        "id": "1uZ5NRkmH2ms"
      },
      "outputs": [],
      "source": [
        "import warnings \n",
        "warnings.filterwarnings('ignore')\n",
        "import matplotlib.pyplot as plt\n",
        "import numpy as np\n",
        "import pandas as pd\n",
        "from sklearn.metrics import accuracy_score, recall_score, precision_score, f1_score, confusion_matrix, multilabel_confusion_matrix\n",
        "import seaborn as sns"
      ]
    },
    {
      "cell_type": "markdown",
      "source": [
        "##Define Helper Functions"
      ],
      "metadata": {
        "id": "bOow-iBsuqlo"
      }
    },
    {
      "cell_type": "code",
      "source": [
        "def get_metrics(model, x, y, label='Malware'):\n",
        "  \n",
        "  y_true = y\n",
        "  pred = model.predict(x)\n",
        "  acc = accuracy_score(y_true, pred)\n",
        "  prec = precision_score(y_true, pred)\n",
        "  rec = recall_score(y_true, pred)\n",
        "  f1 = f1_score(y_true, pred)\n",
        "\n",
        "  print(acc, prec, rec, f1)\n",
        "\n",
        "  pred = np.where(pred < 0.5, 0, 1)\n",
        "\n",
        "  confusion = confusion_matrix(y_true, pred, normalize='true')\n",
        "  \n",
        "  pred_labels = [f'pred_not_{label}', f'pred_{label}']\n",
        "  real_labels = [f'real_not_{label}', f'real_{label}']\n",
        "  #sns.set(font_scale=1.3)\n",
        "  plt.figure()\n",
        "  sns.heatmap(confusion, annot=True,fmt=\".2%\", xticklabels = pred_labels, yticklabels = real_labels )\n"
      ],
      "metadata": {
        "id": "C3fo7inMuszA"
      },
      "execution_count": 28,
      "outputs": []
    },
    {
      "cell_type": "code",
      "source": [
        "def print_confusion_matrix(confusion, label='Malware'):\n",
        "\n",
        "  pred_labels = [f'pred_not_{label}', f'pred_{label}']\n",
        "  real_labels = [f'real_not_{label}', f'real_{label}']\n",
        "  #sns.set(font_scale=1.3)\n",
        "  sns.heatmap(confusion, annot=True,fmt=\".2%\",xticklabels = pred_labels, yticklabels = real_labels)"
      ],
      "metadata": {
        "id": "M2GUSuJ2k7oN"
      },
      "execution_count": 8,
      "outputs": []
    },
    {
      "cell_type": "markdown",
      "source": [
        "##Importing the datasets"
      ],
      "metadata": {
        "id": "0o-sujf7VaPc"
      }
    },
    {
      "cell_type": "markdown",
      "source": [
        "The datasets we will be using fall under 2 categories: Evasive and Non-Evasive. The sources of these datasets are varied, and the way we combined these datasets can be found in another notebook."
      ],
      "metadata": {
        "id": "lIhTiN6XVdFJ"
      }
    },
    {
      "cell_type": "code",
      "source": [
        "evasive = pd.read_csv('/content/evasive.csv')\n",
        "non_evasive = pd.read_csv('/content/non_evasive.csv')\n",
        "\n",
        "print(f\"We have {len(evasive)} evasive samples and {len(non_evasive)} non evasive samples\")"
      ],
      "metadata": {
        "colab": {
          "base_uri": "https://localhost:8080/"
        },
        "id": "A7rw85zRIBgL",
        "outputId": "3affd331-0e4e-4b84-a39f-cac567dae5a5"
      },
      "execution_count": 9,
      "outputs": [
        {
          "output_type": "stream",
          "name": "stdout",
          "text": [
            "We have 20059 evasive samples and 20647 non evasive samples\n"
          ]
        }
      ]
    },
    {
      "cell_type": "markdown",
      "source": [
        "The first thing we do, is to remove the duplicates across the dataframes."
      ],
      "metadata": {
        "id": "xyO-mtxkWCDq"
      }
    },
    {
      "cell_type": "code",
      "source": [
        "evasive=evasive.drop_duplicates()\n",
        "non_evasive=non_evasive.drop_duplicates()\n",
        "\n",
        "print(len(evasive), len(non_evasive))"
      ],
      "metadata": {
        "colab": {
          "base_uri": "https://localhost:8080/"
        },
        "id": "LoeVq8xQIWcI",
        "outputId": "85917052-6fd1-42a7-9851-bbf7121da70e"
      },
      "execution_count": 10,
      "outputs": [
        {
          "output_type": "stream",
          "name": "stdout",
          "text": [
            "20059 20647\n"
          ]
        }
      ]
    },
    {
      "cell_type": "markdown",
      "source": [
        "We examine the distribution of our labels for evasive and non evasive samples."
      ],
      "metadata": {
        "id": "Xb46Zui4j4jq"
      }
    },
    {
      "cell_type": "code",
      "source": [
        "evasive_value_counts = evasive['class'].value_counts()\n",
        "evasive_labels = evasive_value_counts.index\n",
        "evasive_sizes = evasive_value_counts.values\n",
        "\n",
        "non_evasive_value_counts = non_evasive['class'].value_counts()\n",
        "non_evasive_labels = non_evasive_value_counts.index\n",
        "non_evasive_sizes = non_evasive_value_counts.values\n",
        "\n",
        "fig, (ax1, ax2) = plt.subplots(1, 2, figsize=(10, 5))\n",
        "\n",
        "ax1.pie(evasive_sizes, labels=evasive_labels, autopct='%1.1f%%')\n",
        "ax1.set_title('Evasive Data')\n",
        "ax1.set_aspect('equal')\n",
        "\n",
        "ax2.pie(non_evasive_sizes, labels=non_evasive_labels, autopct='%1.1f%%')\n",
        "ax2.set_title('Non-Evasive Data')\n",
        "ax2.set_aspect('equal')\n",
        "\n",
        "plt.subplots_adjust(wspace=0.3)\n",
        "\n",
        "plt.show()\n"
      ],
      "metadata": {
        "colab": {
          "base_uri": "https://localhost:8080/",
          "height": 396
        },
        "id": "pLqMHeLLJ-p9",
        "outputId": "bd817205-3b16-4c26-bbaa-6b5452c2159c"
      },
      "execution_count": 19,
      "outputs": [
        {
          "output_type": "display_data",
          "data": {
            "text/plain": [
              "<Figure size 1000x500 with 2 Axes>"
            ],
            "image/png": "[encoded data removed]"
          },
          "metadata": {}
        }
      ]
    },
    {
      "cell_type": "markdown",
      "source": [
        "We merge the 2 dataframes"
      ],
      "metadata": {
        "id": "SUw7czUnlCHb"
      }
    },
    {
      "cell_type": "code",
      "source": [
        "df= pd.concat([evasive, non_evasive], axis=0)\n",
        "len(df)"
      ],
      "metadata": {
        "colab": {
          "base_uri": "https://localhost:8080/"
        },
        "id": "-Lm9szYhLbvD",
        "outputId": "ea755909-57c8-4185-a334-442427a47754"
      },
      "execution_count": 20,
      "outputs": [
        {
          "output_type": "execute_result",
          "data": {
            "text/plain": [
              "40706"
            ]
          },
          "metadata": {},
          "execution_count": 20
        }
      ]
    },
    {
      "cell_type": "code",
      "source": [
        "df['class'].value_counts()"
      ],
      "metadata": {
        "colab": {
          "base_uri": "https://localhost:8080/"
        },
        "id": "A7N1wGzuLobb",
        "outputId": "ddb258d0-5a9b-48e2-b95c-1023b2a11658"
      },
      "execution_count": 21,
      "outputs": [
        {
          "output_type": "execute_result",
          "data": {
            "text/plain": [
              "1    25347\n",
              "0    15359\n",
              "Name: class, dtype: int64"
            ]
          },
          "metadata": {},
          "execution_count": 21
        }
      ]
    },
    {
      "cell_type": "markdown",
      "source": [
        "To do differentiate between the 2 datasets, we add a column named \"Evasive\", and we set it to 0 or 1 accordingly."
      ],
      "metadata": {
        "id": "hdOKOGf2Ltwk"
      }
    },
    {
      "cell_type": "code",
      "source": [
        "evasive['Evasive'] = 1\n",
        "non_evasive['Evasive'] = 0"
      ],
      "metadata": {
        "id": "aaKMZmYbalrv"
      },
      "execution_count": 22,
      "outputs": []
    },
    {
      "cell_type": "markdown",
      "source": [
        "Getting the features and the targets for each dataset"
      ],
      "metadata": {
        "id": "6ZlFmbYyXPgj"
      }
    },
    {
      "cell_type": "code",
      "source": [
        "x_n_e = non_evasive.iloc[:,:-2]\n",
        "y_n_e = non_evasive.iloc[:,-2:]\n",
        "\n",
        "x_e = evasive.iloc[:,:-2]\n",
        "y_e = evasive.iloc[:,-2:]"
      ],
      "metadata": {
        "id": "g8gkg7l0JVRB"
      },
      "execution_count": 23,
      "outputs": []
    },
    {
      "cell_type": "markdown",
      "source": [
        "Leaving from both sets 20% for final testing to see how well the model generalizes."
      ],
      "metadata": {
        "id": "NbAhajPPXyi8"
      }
    },
    {
      "cell_type": "code",
      "source": [
        "from sklearn.model_selection import train_test_split\n",
        "\n",
        "x_n_e_train, x_n_e_test, y_n_e_train, y_n_e_test = train_test_split(x_n_e, y_n_e, random_state = 2, stratify = y_n_e.iloc[:,0], test_size=0.2)\n",
        "x_e_train, x_e_test, y_e_train, y_e_test = train_test_split(x_e, y_e, random_state = 2, stratify = y_e.iloc[:,0], test_size=0.2)"
      ],
      "metadata": {
        "id": "93ycwUWJJI2J"
      },
      "execution_count": 24,
      "outputs": []
    },
    {
      "cell_type": "code",
      "source": [
        "from sklearn.preprocessing import MinMaxScaler, StandardScaler\n",
        "scaler_n_e = StandardScaler()\n",
        "scaler_n_e.fit(x_n_e_train)"
      ],
      "metadata": {
        "colab": {
          "base_uri": "https://localhost:8080/",
          "height": 74
        },
        "id": "6v_C5KCMVbTz",
        "outputId": "0911ce09-b07b-40a2-fe01-15d46dc21128"
      },
      "execution_count": 25,
      "outputs": [
        {
          "output_type": "execute_result",
          "data": {
            "text/plain": [
              "StandardScaler()"
            ],
            "text/html": [
              "<style>#sk-container-id-1 {color: black;background-color: white;}#sk-container-id-1 pre{padding: 0;}#sk-container-id-1 div.sk-toggleable {background-color: white;}#sk-container-id-1 label.sk-toggleable__label {cursor: pointer;display: block;width: 100%;margin-bottom: 0;padding: 0.3em;box-sizing: border-box;text-align: center;}#sk-container-id-1 label.sk-toggleable__label-arrow:before {content: \"▸\";float: left;margin-right: 0.25em;color: #696969;}#sk-container-id-1 label.sk-toggleable__label-arrow:hover:before {color: black;}#sk-container-id-1 div.sk-estimator:hover label.sk-toggleable__label-arrow:before {color: black;}#sk-container-id-1 div.sk-toggleable__content {max-height: 0;max-width: 0;overflow: hidden;text-align: left;background-color: #f0f8ff;}#sk-container-id-1 div.sk-toggleable__content pre {margin: 0.2em;color: black;border-radius: 0.25em;background-color: #f0f8ff;}#sk-container-id-1 input.sk-toggleable__control:checked~div.sk-toggleable__content {max-height: 200px;max-width: 100%;overflow: auto;}#sk-container-id-1 input.sk-toggleable__control:checked~label.sk-toggleable__label-arrow:before {content: \"▾\";}#sk-container-id-1 div.sk-estimator input.sk-toggleable__control:checked~label.sk-toggleable__label {background-color: #d4ebff;}#sk-container-id-1 div.sk-label input.sk-toggleable__control:checked~label.sk-toggleable__label {background-color: #d4ebff;}#sk-container-id-1 input.sk-hidden--visually {border: 0;clip: rect(1px 1px 1px 1px);clip: rect(1px, 1px, 1px, 1px);height: 1px;margin: -1px;overflow: hidden;padding: 0;position: absolute;width: 1px;}#sk-container-id-1 div.sk-estimator {font-family: monospace;background-color: #f0f8ff;border: 1px dotted black;border-radius: 0.25em;box-sizing: border-box;margin-bottom: 0.5em;}#sk-container-id-1 div.sk-estimator:hover {background-color: #d4ebff;}#sk-container-id-1 div.sk-parallel-item::after {content: \"\";width: 100%;border-bottom: 1px solid gray;flex-grow: 1;}#sk-container-id-1 div.sk-label:hover label.sk-toggleable__label {background-color: #d4ebff;}#sk-container-id-1 div.sk-serial::before {content: \"\";position: absolute;border-left: 1px solid gray;box-sizing: border-box;top: 0;bottom: 0;left: 50%;z-index: 0;}#sk-container-id-1 div.sk-serial {display: flex;flex-direction: column;align-items: center;background-color: white;padding-right: 0.2em;padding-left: 0.2em;position: relative;}#sk-container-id-1 div.sk-item {position: relative;z-index: 1;}#sk-container-id-1 div.sk-parallel {display: flex;align-items: stretch;justify-content: center;background-color: white;position: relative;}#sk-container-id-1 div.sk-item::before, #sk-container-id-1 div.sk-parallel-item::before {content: \"\";position: absolute;border-left: 1px solid gray;box-sizing: border-box;top: 0;bottom: 0;left: 50%;z-index: -1;}#sk-container-id-1 div.sk-parallel-item {display: flex;flex-direction: column;z-index: 1;position: relative;background-color: white;}#sk-container-id-1 div.sk-parallel-item:first-child::after {align-self: flex-end;width: 50%;}#sk-container-id-1 div.sk-parallel-item:last-child::after {align-self: flex-start;width: 50%;}#sk-container-id-1 div.sk-parallel-item:only-child::after {width: 0;}#sk-container-id-1 div.sk-dashed-wrapped {border: 1px dashed gray;margin: 0 0.4em 0.5em 0.4em;box-sizing: border-box;padding-bottom: 0.4em;background-color: white;}#sk-container-id-1 div.sk-label label {font-family: monospace;font-weight: bold;display: inline-block;line-height: 1.2em;}#sk-container-id-1 div.sk-label-container {text-align: center;}#sk-container-id-1 div.sk-container {/* jupyter's `normalize.less` sets `[hidden] { display: none; }` but bootstrap.min.css set `[hidden] { display: none !important; }` so we also need the `!important` here to be able to override the default hidden behavior on the sphinx rendered scikit-learn.org. See: https://github.com/scikit-learn/scikit-learn/issues/21755 */display: inline-block !important;position: relative;}#sk-container-id-1 div.sk-text-repr-fallback {display: none;}</style><div id=\"sk-container-id-1\" class=\"sk-top-container\"><div class=\"sk-text-repr-fallback\"><pre>StandardScaler()</pre><b>In a Jupyter environment, please rerun this cell to show the HTML representation or trust the notebook. <br />On GitHub, the HTML representation is unable to render, please try loading this page with nbviewer.org.</b></div><div class=\"sk-container\" hidden><div class=\"sk-item\"><div class=\"sk-estimator sk-toggleable\"><input class=\"sk-toggleable__control sk-hidden--visually\" id=\"sk-estimator-id-1\" type=\"checkbox\" checked><label for=\"sk-estimator-id-1\" class=\"sk-toggleable__label sk-toggleable__label-arrow\">StandardScaler</label><div class=\"sk-toggleable__content\"><pre>StandardScaler()</pre></div></div></div></div></div>"
            ]
          },
          "metadata": {},
          "execution_count": 25
        }
      ]
    },
    {
      "cell_type": "code",
      "source": [
        "scaler_e = StandardScaler()\n",
        "scaler_e.fit(x_e_train)"
      ],
      "metadata": {
        "colab": {
          "base_uri": "https://localhost:8080/",
          "height": 74
        },
        "id": "Ceh3_8AxVx6z",
        "outputId": "f56444db-20e4-4632-f36e-d8a8631c36d6"
      },
      "execution_count": 26,
      "outputs": [
        {
          "output_type": "execute_result",
          "data": {
            "text/plain": [
              "StandardScaler()"
            ],
            "text/html": [
              "<style>#sk-container-id-2 {color: black;background-color: white;}#sk-container-id-2 pre{padding: 0;}#sk-container-id-2 div.sk-toggleable {background-color: white;}#sk-container-id-2 label.sk-toggleable__label {cursor: pointer;display: block;width: 100%;margin-bottom: 0;padding: 0.3em;box-sizing: border-box;text-align: center;}#sk-container-id-2 label.sk-toggleable__label-arrow:before {content: \"▸\";float: left;margin-right: 0.25em;color: #696969;}#sk-container-id-2 label.sk-toggleable__label-arrow:hover:before {color: black;}#sk-container-id-2 div.sk-estimator:hover label.sk-toggleable__label-arrow:before {color: black;}#sk-container-id-2 div.sk-toggleable__content {max-height: 0;max-width: 0;overflow: hidden;text-align: left;background-color: #f0f8ff;}#sk-container-id-2 div.sk-toggleable__content pre {margin: 0.2em;color: black;border-radius: 0.25em;background-color: #f0f8ff;}#sk-container-id-2 input.sk-toggleable__control:checked~div.sk-toggleable__content {max-height: 200px;max-width: 100%;overflow: auto;}#sk-container-id-2 input.sk-toggleable__control:checked~label.sk-toggleable__label-arrow:before {content: \"▾\";}#sk-container-id-2 div.sk-estimator input.sk-toggleable__control:checked~label.sk-toggleable__label {background-color: #d4ebff;}#sk-container-id-2 div.sk-label input.sk-toggleable__control:checked~label.sk-toggleable__label {background-color: #d4ebff;}#sk-container-id-2 input.sk-hidden--visually {border: 0;clip: rect(1px 1px 1px 1px);clip: rect(1px, 1px, 1px, 1px);height: 1px;margin: -1px;overflow: hidden;padding: 0;position: absolute;width: 1px;}#sk-container-id-2 div.sk-estimator {font-family: monospace;background-color: #f0f8ff;border: 1px dotted black;border-radius: 0.25em;box-sizing: border-box;margin-bottom: 0.5em;}#sk-container-id-2 div.sk-estimator:hover {background-color: #d4ebff;}#sk-container-id-2 div.sk-parallel-item::after {content: \"\";width: 100%;border-bottom: 1px solid gray;flex-grow: 1;}#sk-container-id-2 div.sk-label:hover label.sk-toggleable__label {background-color: #d4ebff;}#sk-container-id-2 div.sk-serial::before {content: \"\";position: absolute;border-left: 1px solid gray;box-sizing: border-box;top: 0;bottom: 0;left: 50%;z-index: 0;}#sk-container-id-2 div.sk-serial {display: flex;flex-direction: column;align-items: center;background-color: white;padding-right: 0.2em;padding-left: 0.2em;position: relative;}#sk-container-id-2 div.sk-item {position: relative;z-index: 1;}#sk-container-id-2 div.sk-parallel {display: flex;align-items: stretch;justify-content: center;background-color: white;position: relative;}#sk-container-id-2 div.sk-item::before, #sk-container-id-2 div.sk-parallel-item::before {content: \"\";position: absolute;border-left: 1px solid gray;box-sizing: border-box;top: 0;bottom: 0;left: 50%;z-index: -1;}#sk-container-id-2 div.sk-parallel-item {display: flex;flex-direction: column;z-index: 1;position: relative;background-color: white;}#sk-container-id-2 div.sk-parallel-item:first-child::after {align-self: flex-end;width: 50%;}#sk-container-id-2 div.sk-parallel-item:last-child::after {align-self: flex-start;width: 50%;}#sk-container-id-2 div.sk-parallel-item:only-child::after {width: 0;}#sk-container-id-2 div.sk-dashed-wrapped {border: 1px dashed gray;margin: 0 0.4em 0.5em 0.4em;box-sizing: border-box;padding-bottom: 0.4em;background-color: white;}#sk-container-id-2 div.sk-label label {font-family: monospace;font-weight: bold;display: inline-block;line-height: 1.2em;}#sk-container-id-2 div.sk-label-container {text-align: center;}#sk-container-id-2 div.sk-container {/* jupyter's `normalize.less` sets `[hidden] { display: none; }` but bootstrap.min.css set `[hidden] { display: none !important; }` so we also need the `!important` here to be able to override the default hidden behavior on the sphinx rendered scikit-learn.org. See: https://github.com/scikit-learn/scikit-learn/issues/21755 */display: inline-block !important;position: relative;}#sk-container-id-2 div.sk-text-repr-fallback {display: none;}</style><div id=\"sk-container-id-2\" class=\"sk-top-container\"><div class=\"sk-text-repr-fallback\"><pre>StandardScaler()</pre><b>In a Jupyter environment, please rerun this cell to show the HTML representation or trust the notebook. <br />On GitHub, the HTML representation is unable to render, please try loading this page with nbviewer.org.</b></div><div class=\"sk-container\" hidden><div class=\"sk-item\"><div class=\"sk-estimator sk-toggleable\"><input class=\"sk-toggleable__control sk-hidden--visually\" id=\"sk-estimator-id-2\" type=\"checkbox\" checked><label for=\"sk-estimator-id-2\" class=\"sk-toggleable__label sk-toggleable__label-arrow\">StandardScaler</label><div class=\"sk-toggleable__content\"><pre>StandardScaler()</pre></div></div></div></div></div>"
            ]
          },
          "metadata": {},
          "execution_count": 26
        }
      ]
    },
    {
      "cell_type": "markdown",
      "source": [
        "##Building the base model"
      ],
      "metadata": {
        "id": "B8nqLKTAYD4C"
      }
    },
    {
      "cell_type": "markdown",
      "source": [
        "The first thing we do is to build a base model that detects malware, trained on non-evasive samples."
      ],
      "metadata": {
        "id": "OjK0aDW3YHLN"
      }
    },
    {
      "cell_type": "code",
      "source": [
        "from sklearn.model_selection import cross_validate, GridSearchCV\n",
        "from lightgbm import LGBMClassifier"
      ],
      "metadata": {
        "id": "-NF3VCqUmN4m"
      },
      "execution_count": 27,
      "outputs": []
    },
    {
      "cell_type": "markdown",
      "source": [
        "###Model Selection to Build the Baseline"
      ],
      "metadata": {
        "id": "AveVYz73wQaq"
      }
    },
    {
      "cell_type": "markdown",
      "source": [
        "####Logistic Regression"
      ],
      "metadata": {
        "id": "5d3evMyHxcXX"
      }
    },
    {
      "cell_type": "code",
      "source": [
        "from sklearn.linear_model import LogisticRegression\n",
        "\n",
        "lr = LogisticRegression()\n",
        "lr.fit(scaler_n_e.transform(x_n_e_train), y_n_e_train.iloc[:,0])\n",
        "get_metrics(lr, scaler_n_e.transform(x_n_e_test), y_n_e_test.iloc[:,0])"
      ],
      "metadata": {
        "colab": {
          "base_uri": "https://localhost:8080/",
          "height": 283
        },
        "id": "zo9eRIKoxeWQ",
        "outputId": "d28b1096-6474-4a3f-945e-e436af256994"
      },
      "execution_count": null,
      "outputs": [
        {
          "output_type": "stream",
          "name": "stdout",
          "text": [
            "0.9443099273607748 0.9136163982430454 0.9724675324675325 0.9421238047307499\n"
          ]
        },
        {
          "output_type": "display_data",
          "data": {
            "text/plain": [
              "<Figure size 432x288 with 2 Axes>"
            ],
            "image/png": "[encoded data removed]"
          },
          "metadata": {
            "needs_background": "light"
          }
        }
      ]
    },
    {
      "cell_type": "markdown",
      "source": [
        "####SVM with RBF kernel\n"
      ],
      "metadata": {
        "id": "hcLqmaDfxGcE"
      }
    },
    {
      "cell_type": "code",
      "source": [
        "from sklearn.svm import SVC\n",
        "\n",
        "svc_rbf = SVC()\n",
        "svc_rbf.fit(scaler_n_e.transform(x_n_e_train), y_n_e_train.iloc[:,0])\n",
        "get_metrics(svc_rbf, scaler_n_e.transform(x_n_e_test), y_n_e_test.iloc[:,0])"
      ],
      "metadata": {
        "colab": {
          "base_uri": "https://localhost:8080/",
          "height": 283
        },
        "id": "UyS7YnlbxIs0",
        "outputId": "b652b749-0e86-4247-c2f4-e15f5826d05e"
      },
      "execution_count": null,
      "outputs": [
        {
          "output_type": "stream",
          "name": "stdout",
          "text": [
            "0.987409200968523 0.9880145909327774 0.9849350649350649 0.9864724245577523\n"
          ]
        },
        {
          "output_type": "display_data",
          "data": {
            "text/plain": [
              "<Figure size 432x288 with 2 Axes>"
            ],
            "image/png": "[encoded data removed]"
          },
          "metadata": {
            "needs_background": "light"
          }
        }
      ]
    },
    {
      "cell_type": "markdown",
      "source": [
        "####SVM with Polynomial Kernel"
      ],
      "metadata": {
        "id": "ygsHIfBrxpJo"
      }
    },
    {
      "cell_type": "code",
      "source": [
        "from sklearn.svm import SVC\n",
        "\n",
        "svc_poly_1 = SVC(kernel = \"poly\", degree=1)\n",
        "svc_poly_1.fit(scaler_n_e.transform(x_n_e_train), y_n_e_train.iloc[:,0])\n",
        "get_metrics(svc_poly_1, scaler_n_e.transform(x_n_e_test), y_n_e_test.iloc[:,0])"
      ],
      "metadata": {
        "colab": {
          "base_uri": "https://localhost:8080/",
          "height": 283
        },
        "id": "pyDrPIIHxtiA",
        "outputId": "44619c61-7848-4c73-91f4-5d6cfa929516"
      },
      "execution_count": null,
      "outputs": [
        {
          "output_type": "stream",
          "name": "stdout",
          "text": [
            "0.9232445520581114 0.8785310734463276 0.9693506493506493 0.9217090639664113\n"
          ]
        },
        {
          "output_type": "display_data",
          "data": {
            "text/plain": [
              "<Figure size 432x288 with 2 Axes>"
            ],
            "image/png": "[encoded data removed]"
          },
          "metadata": {
            "needs_background": "light"
          }
        }
      ]
    },
    {
      "cell_type": "code",
      "source": [
        "from sklearn.svm import SVC\n",
        "\n",
        "svc_poly_2 = SVC(kernel = \"poly\", degree=2)\n",
        "svc_poly_2.fit(scaler_n_e.transform(x_n_e_train), y_n_e_train.iloc[:,0])\n",
        "get_metrics(svc_poly_2, scaler_n_e.transform(x_n_e_test), y_n_e_test.iloc[:,0])"
      ],
      "metadata": {
        "colab": {
          "base_uri": "https://localhost:8080/",
          "height": 283
        },
        "id": "r3XxJIz-PfFh",
        "outputId": "5bf8e0e8-2c17-4268-c595-1946eddeb552"
      },
      "execution_count": null,
      "outputs": [
        {
          "output_type": "stream",
          "name": "stdout",
          "text": [
            "0.9602905569007264 0.9417962870045158 0.9750649350649351 0.958141909137315\n"
          ]
        },
        {
          "output_type": "display_data",
          "data": {
            "text/plain": [
              "<Figure size 432x288 with 2 Axes>"
            ],
            "image/png": "[encoded data removed]"
          },
          "metadata": {
            "needs_background": "light"
          }
        }
      ]
    },
    {
      "cell_type": "code",
      "source": [
        "from sklearn.svm import SVC\n",
        "\n",
        "svc_poly = SVC(kernel = \"poly\", degree=3)\n",
        "svc_poly.fit(scaler_n_e.transform(x_n_e_train), y_n_e_train.iloc[:,0])\n",
        "get_metrics(svc_poly, scaler_n_e.transform(x_n_e_test), y_n_e_test.iloc[:,0])"
      ],
      "metadata": {
        "colab": {
          "base_uri": "https://localhost:8080/",
          "height": 283
        },
        "id": "lrfF0IkaP5h9",
        "outputId": "1f6e7164-da5b-4c11-db61-5ea5b8afe47c"
      },
      "execution_count": null,
      "outputs": [
        {
          "output_type": "stream",
          "name": "stdout",
          "text": [
            "0.7784503631961259 0.9557761732851986 0.5501298701298701 0.6983184965380811\n"
          ]
        },
        {
          "output_type": "display_data",
          "data": {
            "text/plain": [
              "<Figure size 432x288 with 2 Axes>"
            ],
            "image/png": "[encoded data removed]"
          },
          "metadata": {
            "needs_background": "light"
          }
        }
      ]
    },
    {
      "cell_type": "markdown",
      "source": [
        "####Naive Bayes"
      ],
      "metadata": {
        "id": "tPMHVd9Wyrn-"
      }
    },
    {
      "cell_type": "code",
      "source": [
        "from sklearn.naive_bayes import MultinomialNB\n",
        "\n",
        "nb = MultinomialNB()\n",
        "nb.fit(x_n_e_train, y_n_e_train.iloc[:,0])\n",
        "get_metrics(nb, x_n_e_test, y_n_e_test.iloc[:,0])"
      ],
      "metadata": {
        "colab": {
          "base_uri": "https://localhost:8080/",
          "height": 283
        },
        "id": "7xbZitj3ytMn",
        "outputId": "ac2ff612-2363-4168-ca0f-9e0295674de2"
      },
      "execution_count": null,
      "outputs": [
        {
          "output_type": "stream",
          "name": "stdout",
          "text": [
            "0.8280871670702179 0.7845433255269321 0.8701298701298701 0.8251231527093595\n"
          ]
        },
        {
          "output_type": "display_data",
          "data": {
            "text/plain": [
              "<Figure size 432x288 with 2 Axes>"
            ],
            "image/png": "[encoded data removed]"
          },
          "metadata": {
            "needs_background": "light"
          }
        }
      ]
    },
    {
      "cell_type": "markdown",
      "source": [
        "####Random Forest Classifier"
      ],
      "metadata": {
        "id": "FWHQ0IN90YZl"
      }
    },
    {
      "cell_type": "code",
      "source": [
        "from sklearn.ensemble import RandomForestClassifier\n",
        "\n",
        "rf = RandomForestClassifier()\n",
        "rf.fit(x_n_e_train, y_n_e_train.iloc[:,0])\n",
        "get_metrics(rf, x_n_e_test, y_n_e_test.iloc[:,0])"
      ],
      "metadata": {
        "colab": {
          "base_uri": "https://localhost:8080/",
          "height": 283
        },
        "id": "4BkUCUuF0aXS",
        "outputId": "8da305f1-f316-4da7-cf9c-b2c08faf81b2"
      },
      "execution_count": null,
      "outputs": [
        {
          "output_type": "stream",
          "name": "stdout",
          "text": [
            "0.9970944309927361 0.9994778067885117 0.9942857142857143 0.9968750000000001\n"
          ]
        },
        {
          "output_type": "display_data",
          "data": {
            "text/plain": [
              "<Figure size 432x288 with 2 Axes>"
            ],
            "image/png": "[encoded data removed]"
          },
          "metadata": {
            "needs_background": "light"
          }
        }
      ]
    },
    {
      "cell_type": "markdown",
      "source": [
        "####Adaboost Classifier"
      ],
      "metadata": {
        "id": "Q6PGEILEzk4x"
      }
    },
    {
      "cell_type": "code",
      "source": [
        "from sklearn.ensemble import AdaBoostClassifier\n",
        "\n",
        "ab = AdaBoostClassifier()\n",
        "ab.fit(x_n_e_train, y_n_e_train.iloc[:,0])\n",
        "get_metrics(ab, x_n_e_test, y_n_e_test.iloc[:,0])"
      ],
      "metadata": {
        "colab": {
          "base_uri": "https://localhost:8080/",
          "height": 283
        },
        "id": "jDbjO4Pxzkox",
        "outputId": "de9316d5-1166-4c3d-e0a3-7356d885c88e"
      },
      "execution_count": null,
      "outputs": [
        {
          "output_type": "stream",
          "name": "stdout",
          "text": [
            "0.9932203389830508 0.9947835159102765 0.9906493506493507 0.9927121290994274\n"
          ]
        },
        {
          "output_type": "display_data",
          "data": {
            "text/plain": [
              "<Figure size 432x288 with 2 Axes>"
            ],
            "image/png": "[encoded data removed]"
          },
          "metadata": {
            "needs_background": "light"
          }
        }
      ]
    },
    {
      "cell_type": "markdown",
      "source": [
        "#### LightGBM Classifier"
      ],
      "metadata": {
        "id": "fdwuI7b9z84v"
      }
    },
    {
      "cell_type": "code",
      "source": [
        "from lightgbm import LGBMClassifier\n",
        "\n",
        "lgbm = LGBMClassifier()\n",
        "lgbm.fit(x_n_e_train, y_n_e_train.iloc[:,0])\n",
        "get_metrics(ab, x_n_e_test, y_n_e_test.iloc[:,0])"
      ],
      "metadata": {
        "colab": {
          "base_uri": "https://localhost:8080/",
          "height": 283
        },
        "id": "CbXnz9QZz-iX",
        "outputId": "f0de31a1-e8fd-4068-ad44-1033bae158b7"
      },
      "execution_count": null,
      "outputs": [
        {
          "output_type": "stream",
          "name": "stdout",
          "text": [
            "0.9932203389830508 0.9947835159102765 0.9906493506493507 0.9927121290994274\n"
          ]
        },
        {
          "output_type": "display_data",
          "data": {
            "text/plain": [
              "<Figure size 432x288 with 2 Axes>"
            ],
            "image/png": "[encoded data removed]"
          },
          "metadata": {
            "needs_background": "light"
          }
        }
      ]
    },
    {
      "cell_type": "markdown",
      "source": [
        "####Testing these Models on evasive data"
      ],
      "metadata": {
        "id": "gzQAedE91Rve"
      }
    },
    {
      "cell_type": "code",
      "source": [
        "models = [lr,svc_rbf,svc_poly_1, svc_poly_2]\n",
        "\n",
        "for non_evasive_model in models:\n",
        "  print(type(non_evasive_model))\n",
        "  get_metrics(non_evasive_model, scaler_n_e.transform(x_e_test), y_e_test.iloc[:,0])"
      ],
      "metadata": {
        "colab": {
          "base_uri": "https://localhost:8080/",
          "height": 1000
        },
        "id": "_wRB3X511Vii",
        "outputId": "dfd33c2e-f8ed-471f-dbe4-e696ea7e04a2"
      },
      "execution_count": null,
      "outputs": [
        {
          "output_type": "stream",
          "name": "stdout",
          "text": [
            "<class 'sklearn.linear_model._logistic.LogisticRegression'>\n",
            "0.3773678963110668 0.8290946083418108 0.2591414944356121 0.39486434108527135\n",
            "<class 'sklearn.svm._classes.SVC'>\n",
            "0.4499002991026919 0.9342592592592592 0.32082670906200317 0.4776331360946745\n",
            "<class 'sklearn.svm._classes.SVC'>\n",
            "0.38534396809571286 0.8398398398398398 0.2667726550079491 0.4049227799227799\n",
            "<class 'sklearn.svm._classes.SVC'>\n",
            "0.3915752741774676 0.8801295896328294 0.2591414944356121 0.40039302382706954\n"
          ]
        },
        {
          "output_type": "display_data",
          "data": {
            "text/plain": [
              "<Figure size 432x288 with 2 Axes>"
            ],
            "image/png": "[encoded data removed]"
          },
          "metadata": {
            "needs_background": "light"
          }
        },
        {
          "output_type": "display_data",
          "data": {
            "text/plain": [
              "<Figure size 432x288 with 2 Axes>"
            ],
            "image/png": "[encoded data removed]"
          },
          "metadata": {
            "needs_background": "light"
          }
        },
        {
          "output_type": "display_data",
          "data": {
            "text/plain": [
              "<Figure size 432x288 with 2 Axes>"
            ],
            "image/png": "[encoded data removed]"
          },
          "metadata": {
            "needs_background": "light"
          }
        },
        {
          "output_type": "display_data",
          "data": {
            "text/plain": [
              "<Figure size 432x288 with 2 Axes>"
            ],
            "image/png": "[encoded data removed]"
          },
          "metadata": {
            "needs_background": "light"
          }
        }
      ]
    },
    {
      "cell_type": "code",
      "source": [
        "models = [nb, rf, ab, lgbm]\n",
        "for non_evasive_model in models:\n",
        "  print(type(non_evasive_model))\n",
        "  get_metrics(non_evasive_model, x_e_test, y_e_test.iloc[:,0])"
      ],
      "metadata": {
        "colab": {
          "base_uri": "https://localhost:8080/",
          "height": 1000
        },
        "id": "aEaO8alCRnYD",
        "outputId": "320b75c6-a380-495d-c6e8-59575bb4d801"
      },
      "execution_count": null,
      "outputs": [
        {
          "output_type": "stream",
          "name": "stdout",
          "text": [
            "<class 'sklearn.naive_bayes.MultinomialNB'>\n",
            "0.344715852442672 0.8623595505617978 0.19523052464228935 0.3183821623023075\n",
            "<class 'sklearn.ensemble._forest.RandomForestClassifier'>\n",
            "0.3983050847457627 0.9752925877763329 0.2384737678855326 0.38323965252938175\n",
            "<class 'sklearn.ensemble._weight_boosting.AdaBoostClassifier'>\n",
            "0.39955134596211367 0.9433734939759036 0.24896661367249603 0.3939622641509434\n",
            "<class 'lightgbm.sklearn.LGBMClassifier'>\n",
            "0.6627617148554337 0.9691099476439791 0.5885532591414945 0.7323442136498518\n"
          ]
        },
        {
          "output_type": "display_data",
          "data": {
            "text/plain": [
              "<Figure size 432x288 with 2 Axes>"
            ],
            "image/png": "[encoded data removed]"
          },
          "metadata": {
            "needs_background": "light"
          }
        },
        {
          "output_type": "display_data",
          "data": {
            "text/plain": [
              "<Figure size 432x288 with 2 Axes>"
            ],
            "image/png": "[encoded data removed]"
          },
          "metadata": {
            "needs_background": "light"
          }
        },
        {
          "output_type": "display_data",
          "data": {
            "text/plain": [
              "<Figure size 432x288 with 2 Axes>"
            ],
            "image/png": "[encoded data removed]"
          },
          "metadata": {
            "needs_background": "light"
          }
        },
        {
          "output_type": "display_data",
          "data": {
            "text/plain": [
              "<Figure size 432x288 with 2 Axes>"
            ],
            "image/png": "[encoded data removed]"
          },
          "metadata": {
            "needs_background": "light"
          }
        }
      ]
    },
    {
      "cell_type": "markdown",
      "source": [
        "####Fine tuning the LGBM"
      ],
      "metadata": {
        "id": "udrzjxl605MV"
      }
    },
    {
      "cell_type": "code",
      "source": [
        "non_evasive_model = LGBMClassifier(n_estimators = 500)\n",
        "\n",
        "grid_params = {\n",
        "    'max_depth' : [5,7,10],\n",
        "    'max_leaf_nodes' : [2,5,7]\n",
        "}\n",
        "\n",
        "grid = GridSearchCV(non_evasive_model, grid_params, scoring=['accuracy', 'precision', 'recall', 'f1'], cv=5, refit = 'f1', verbose=2)\n",
        "grid.fit(x_n_e_train, y_n_e_train.iloc[:,0])"
      ],
      "metadata": {
        "colab": {
          "base_uri": "https://localhost:8080/"
        },
        "id": "ZOA8PzNDj71G",
        "outputId": "f93185de-dbbc-4cd6-ccbf-717128a72355"
      },
      "execution_count": null,
      "outputs": [
        {
          "output_type": "stream",
          "name": "stdout",
          "text": [
            "Fitting 5 folds for each of 9 candidates, totalling 45 fits\n",
            "[CV] END ......................max_depth=5, max_leaf_nodes=2; total time=   1.1s\n",
            "[CV] END ......................max_depth=5, max_leaf_nodes=2; total time=   1.1s\n",
            "[CV] END ......................max_depth=5, max_leaf_nodes=2; total time=   1.1s\n",
            "[CV] END ......................max_depth=5, max_leaf_nodes=2; total time=   1.2s\n",
            "[CV] END ......................max_depth=5, max_leaf_nodes=2; total time=   1.1s\n",
            "[CV] END ......................max_depth=5, max_leaf_nodes=5; total time=   1.1s\n",
            "[CV] END ......................max_depth=5, max_leaf_nodes=5; total time=   1.1s\n",
            "[CV] END ......................max_depth=5, max_leaf_nodes=5; total time=   1.1s\n",
            "[CV] END ......................max_depth=5, max_leaf_nodes=5; total time=   1.1s\n",
            "[CV] END ......................max_depth=5, max_leaf_nodes=5; total time=   1.1s\n",
            "[CV] END ......................max_depth=5, max_leaf_nodes=7; total time=   1.1s\n",
            "[CV] END ......................max_depth=5, max_leaf_nodes=7; total time=   1.1s\n",
            "[CV] END ......................max_depth=5, max_leaf_nodes=7; total time=   1.1s\n",
            "[CV] END ......................max_depth=5, max_leaf_nodes=7; total time=   1.1s\n",
            "[CV] END ......................max_depth=5, max_leaf_nodes=7; total time=   1.1s\n",
            "[CV] END ......................max_depth=7, max_leaf_nodes=2; total time=   1.2s\n",
            "[CV] END ......................max_depth=7, max_leaf_nodes=2; total time=   1.2s\n",
            "[CV] END ......................max_depth=7, max_leaf_nodes=2; total time=   1.3s\n",
            "[CV] END ......................max_depth=7, max_leaf_nodes=2; total time=   1.2s\n",
            "[CV] END ......................max_depth=7, max_leaf_nodes=2; total time=   1.2s\n",
            "[CV] END ......................max_depth=7, max_leaf_nodes=5; total time=   1.2s\n",
            "[CV] END ......................max_depth=7, max_leaf_nodes=5; total time=   1.2s\n",
            "[CV] END ......................max_depth=7, max_leaf_nodes=5; total time=   1.2s\n",
            "[CV] END ......................max_depth=7, max_leaf_nodes=5; total time=   1.2s\n",
            "[CV] END ......................max_depth=7, max_leaf_nodes=5; total time=   1.2s\n",
            "[CV] END ......................max_depth=7, max_leaf_nodes=7; total time=   1.2s\n",
            "[CV] END ......................max_depth=7, max_leaf_nodes=7; total time=   1.2s\n",
            "[CV] END ......................max_depth=7, max_leaf_nodes=7; total time=   1.2s\n",
            "[CV] END ......................max_depth=7, max_leaf_nodes=7; total time=   1.2s\n",
            "[CV] END ......................max_depth=7, max_leaf_nodes=7; total time=   1.2s\n",
            "[CV] END .....................max_depth=10, max_leaf_nodes=2; total time=   1.3s\n",
            "[CV] END .....................max_depth=10, max_leaf_nodes=2; total time=   1.2s\n",
            "[CV] END .....................max_depth=10, max_leaf_nodes=2; total time=   1.2s\n",
            "[CV] END .....................max_depth=10, max_leaf_nodes=2; total time=   1.3s\n",
            "[CV] END .....................max_depth=10, max_leaf_nodes=2; total time=   1.3s\n",
            "[CV] END .....................max_depth=10, max_leaf_nodes=5; total time=   1.2s\n",
            "[CV] END .....................max_depth=10, max_leaf_nodes=5; total time=   1.2s\n",
            "[CV] END .....................max_depth=10, max_leaf_nodes=5; total time=   1.3s\n",
            "[CV] END .....................max_depth=10, max_leaf_nodes=5; total time=   1.3s\n",
            "[CV] END .....................max_depth=10, max_leaf_nodes=5; total time=   1.3s\n",
            "[CV] END .....................max_depth=10, max_leaf_nodes=7; total time=   1.2s\n",
            "[CV] END .....................max_depth=10, max_leaf_nodes=7; total time=   1.2s\n",
            "[CV] END .....................max_depth=10, max_leaf_nodes=7; total time=   1.2s\n",
            "[CV] END .....................max_depth=10, max_leaf_nodes=7; total time=   1.2s\n",
            "[CV] END .....................max_depth=10, max_leaf_nodes=7; total time=   1.3s\n"
          ]
        },
        {
          "output_type": "execute_result",
          "data": {
            "text/plain": [
              "GridSearchCV(cv=5, estimator=LGBMClassifier(n_estimators=500),\n",
              "             param_grid={'max_depth': [5, 7, 10], 'max_leaf_nodes': [2, 5, 7]},\n",
              "             refit='f1', scoring=['accuracy', 'precision', 'recall', 'f1'],\n",
              "             verbose=2)"
            ]
          },
          "metadata": {},
          "execution_count": 24
        }
      ]
    },
    {
      "cell_type": "code",
      "source": [
        "print(grid.best_params_)\n",
        "print(grid.best_score_)"
      ],
      "metadata": {
        "colab": {
          "base_uri": "https://localhost:8080/"
        },
        "id": "Q2TNhp6DlqHd",
        "outputId": "3ce9a434-acc7-48db-9e6f-a142c434e87e"
      },
      "execution_count": null,
      "outputs": [
        {
          "output_type": "stream",
          "name": "stdout",
          "text": [
            "{'max_depth': 10, 'max_leaf_nodes': 2}\n",
            "0.996877625270125\n"
          ]
        }
      ]
    },
    {
      "cell_type": "markdown",
      "source": [
        "###Fit a model on the best parameters"
      ],
      "metadata": {
        "id": "_sIJHzwY4OxU"
      }
    },
    {
      "cell_type": "code",
      "source": [
        "non_evasive_model = LGBMClassifier(n_estimators=500, max_depth=10, max_leaf_nodes=2)\n",
        "non_evasive_model.fit(x_n_e_train, y_n_e_train.iloc[:,0])"
      ],
      "metadata": {
        "colab": {
          "base_uri": "https://localhost:8080/"
        },
        "id": "eCheRqoeejuJ",
        "outputId": "a4a3c60c-f69e-4bd6-a260-1eac14722942"
      },
      "execution_count": null,
      "outputs": [
        {
          "output_type": "execute_result",
          "data": {
            "text/plain": [
              "LGBMClassifier(max_depth=10, max_leaf_nodes=2, n_estimators=500)"
            ]
          },
          "metadata": {},
          "execution_count": 34
        }
      ]
    },
    {
      "cell_type": "code",
      "source": [
        "get_metrics(non_evasive_model, x_n_e_test, y_n_e_test.iloc[:,0])"
      ],
      "metadata": {
        "colab": {
          "base_uri": "https://localhost:8080/",
          "height": 283
        },
        "id": "MIJYEwgvv6hp",
        "outputId": "4e6c33be-d25c-47a0-bf65-1bb4fc6edc96"
      },
      "execution_count": null,
      "outputs": [
        {
          "output_type": "stream",
          "name": "stdout",
          "text": [
            "0.9968523002421308 0.9979166666666667 0.9953246753246753 0.9966189856957086\n"
          ]
        },
        {
          "output_type": "display_data",
          "data": {
            "text/plain": [
              "<Figure size 432x288 with 2 Axes>"
            ],
            "image/png": "[encoded data removed]"
          },
          "metadata": {
            "needs_background": "light"
          }
        }
      ]
    },
    {
      "cell_type": "code",
      "source": [
        "import pickle\n",
        "filename = 'LGBM_non_evasive_model.sav'\n",
        "pickle.dump(non_evasive_model, open(filename, 'wb'))"
      ],
      "metadata": {
        "id": "8AiAc1NMWPqQ"
      },
      "execution_count": null,
      "outputs": []
    },
    {
      "cell_type": "markdown",
      "source": [
        "## Build evasive only model"
      ],
      "metadata": {
        "id": "PQ5ZHtxossMK"
      }
    },
    {
      "cell_type": "code",
      "source": [
        "evasive_model = LGBMClassifier(n_estimators=500, max_depth=10, max_leaf_nodes=2)\n",
        "evasive_model.fit(x_e_train, y_e_train.iloc[:,0])"
      ],
      "metadata": {
        "colab": {
          "base_uri": "https://localhost:8080/"
        },
        "id": "jZjKEuUks4Fj",
        "outputId": "e7b442be-c750-4696-9693-1e094475e830"
      },
      "execution_count": null,
      "outputs": [
        {
          "output_type": "execute_result",
          "data": {
            "text/plain": [
              "LGBMClassifier(max_depth=10, max_leaf_nodes=2, n_estimators=500)"
            ]
          },
          "metadata": {},
          "execution_count": 37
        }
      ]
    },
    {
      "cell_type": "code",
      "source": [
        "get_metrics(evasive_model, x_e_test, y_e_test.iloc[:,0])"
      ],
      "metadata": {
        "colab": {
          "base_uri": "https://localhost:8080/",
          "height": 283
        },
        "id": "lLSOlteuwXJf",
        "outputId": "02cc35b6-1850-40f0-c9d8-9079dc697458"
      },
      "execution_count": null,
      "outputs": [
        {
          "output_type": "stream",
          "name": "stdout",
          "text": [
            "0.9945164506480558 0.9980861244019139 0.9949125596184419 0.9964968152866241\n"
          ]
        },
        {
          "output_type": "display_data",
          "data": {
            "text/plain": [
              "<Figure size 432x288 with 2 Axes>"
            ],
            "image/png": "[encoded data removed]"
          },
          "metadata": {
            "needs_background": "light"
          }
        }
      ]
    },
    {
      "cell_type": "markdown",
      "source": [
        "##Test the Baseline Model on Validation Evasive Data"
      ],
      "metadata": {
        "id": "wULXKMskX88n"
      }
    },
    {
      "cell_type": "code",
      "source": [
        "get_metrics(non_evasive_model, x_e_test, y_e_test.iloc[:,0])"
      ],
      "metadata": {
        "colab": {
          "base_uri": "https://localhost:8080/",
          "height": 283
        },
        "id": "9xMK1fCkwkiU",
        "outputId": "1dc41757-4989-4b9b-a4e8-dcd545f22a6e"
      },
      "execution_count": null,
      "outputs": [
        {
          "output_type": "stream",
          "name": "stdout",
          "text": [
            "0.6535393818544367 0.9740680713128039 0.5732909379968204 0.7217774219375501\n"
          ]
        },
        {
          "output_type": "display_data",
          "data": {
            "text/plain": [
              "<Figure size 432x288 with 2 Axes>"
            ],
            "image/png": "[encoded data removed]"
          },
          "metadata": {
            "needs_background": "light"
          }
        }
      ]
    },
    {
      "cell_type": "markdown",
      "source": [
        "We see that the performance drops significantly."
      ],
      "metadata": {
        "id": "LCJ5_yETN0Ch"
      }
    },
    {
      "cell_type": "markdown",
      "source": [
        "##Building Robust Models"
      ],
      "metadata": {
        "id": "5r7HsvZVty8c"
      }
    },
    {
      "cell_type": "code",
      "source": [
        "x_n_e_train, x_n_e_test, y_n_e_train, y_n_e_test = train_test_split(x_n_e, y_n_e, random_state = 2, stratify = y_n_e.iloc[:,0], test_size=0.2)\n",
        "x_e_train, x_e_test, y_e_train, y_e_test = train_test_split(x_e, y_e, random_state = 2, stratify = y_e.iloc[:,0], test_size=0.2)"
      ],
      "metadata": {
        "id": "wJN-5kphOvZP"
      },
      "execution_count": null,
      "outputs": []
    },
    {
      "cell_type": "code",
      "source": [
        "x_adv_train = pd.concat([x_n_e_train, x_e_train])\n",
        "x_adv_test = pd.concat([x_n_e_test, x_e_test])\n",
        "y_adv_train = pd.concat([y_n_e_train, y_e_train])\n",
        "y_adv_test = pd.concat([y_n_e_test, y_e_test])"
      ],
      "metadata": {
        "id": "-OmPpw1fNkYH"
      },
      "execution_count": null,
      "outputs": []
    },
    {
      "cell_type": "code",
      "source": [
        "scaler_adv = MinMaxScaler().fit(x_adv_train)"
      ],
      "metadata": {
        "id": "fT1PXpA7U9E7"
      },
      "execution_count": null,
      "outputs": []
    },
    {
      "cell_type": "markdown",
      "source": [
        "Evaluating the baseline on the mix of evasive and non evasive data"
      ],
      "metadata": {
        "id": "MzFe2Gjc_FyE"
      }
    },
    {
      "cell_type": "code",
      "source": [
        "get_metrics(non_evasive_model, x_adv_test, y_adv_test.iloc[:,0], label='Malware')"
      ],
      "metadata": {
        "colab": {
          "base_uri": "https://localhost:8080/",
          "height": 283
        },
        "id": "L87x08yp_E29",
        "outputId": "98aba35d-abc1-4f76-c63b-6f5888ec5820"
      },
      "execution_count": null,
      "outputs": [
        {
          "output_type": "stream",
          "name": "stdout",
          "text": [
            "0.827683615819209 0.9862105542296473 0.7335305719921105 0.8413075443954304\n"
          ]
        },
        {
          "output_type": "display_data",
          "data": {
            "text/plain": [
              "<Figure size 432x288 with 2 Axes>"
            ],
            "image/png": "[encoded data removed]"
          },
          "metadata": {
            "needs_background": "light"
          }
        }
      ]
    },
    {
      "cell_type": "markdown",
      "source": [
        "###Build Evasion Detection Model"
      ],
      "metadata": {
        "id": "GXxt9gLK49Ag"
      }
    },
    {
      "cell_type": "markdown",
      "source": [
        "###Trying multiple architectures"
      ],
      "metadata": {
        "id": "foloHvwmPVQ_"
      }
    },
    {
      "cell_type": "markdown",
      "source": [
        "####Logistic Regression"
      ],
      "metadata": {
        "id": "8ZfvFKsIPX1-"
      }
    },
    {
      "cell_type": "code",
      "source": [
        "from sklearn.linear_model import LogisticRegression\n",
        "\n",
        "lr = LogisticRegression()\n",
        "lr.fit(scaler_adv.transform(x_adv_train), y_adv_train.iloc[:,1])\n",
        "get_metrics(lr, scaler_adv.transform(x_adv_test), y_adv_test.iloc[:,1], label='Evasive')"
      ],
      "metadata": {
        "colab": {
          "base_uri": "https://localhost:8080/",
          "height": 283
        },
        "id": "LFetsGCKPaRP",
        "outputId": "3116da22-c534-412e-f4f4-7d9eaec05686"
      },
      "execution_count": null,
      "outputs": [
        {
          "output_type": "stream",
          "name": "stdout",
          "text": [
            "0.7652910832719234 0.8962655601659751 0.5922233300099701 0.7131922557406574\n"
          ]
        },
        {
          "output_type": "display_data",
          "data": {
            "text/plain": [
              "<Figure size 432x288 with 2 Axes>"
            ],
            "image/png": "[encoded data removed]"
          },
          "metadata": {
            "needs_background": "light"
          }
        }
      ]
    },
    {
      "cell_type": "markdown",
      "source": [
        "####SVM RBF"
      ],
      "metadata": {
        "id": "HzWsFSrbQfhL"
      }
    },
    {
      "cell_type": "code",
      "source": [
        "from sklearn.svm import SVC\n",
        "\n",
        "svm_rbf = SVC()\n",
        "svm_rbf.fit(scaler_adv.transform(x_adv_train), y_adv_train.iloc[:,1])\n",
        "get_metrics(svm_rbf, scaler_adv.transform(x_adv_test), y_adv_test.iloc[:,1], label='Evasive')"
      ],
      "metadata": {
        "colab": {
          "base_uri": "https://localhost:8080/",
          "height": 283
        },
        "id": "EJvJyn45QX1q",
        "outputId": "64a84c4d-cbc3-45a4-c974-54c5fd9408a1"
      },
      "execution_count": null,
      "outputs": [
        {
          "output_type": "stream",
          "name": "stdout",
          "text": [
            "0.8059444853844264 0.9709527498063517 0.6248753738783649 0.7603882317258113\n"
          ]
        },
        {
          "output_type": "display_data",
          "data": {
            "text/plain": [
              "<Figure size 432x288 with 2 Axes>"
            ],
            "image/png": "[encoded data removed]"
          },
          "metadata": {
            "needs_background": "light"
          }
        }
      ]
    },
    {
      "cell_type": "markdown",
      "source": [
        "####SVM Poly"
      ],
      "metadata": {
        "id": "-DdUtpJzRaKM"
      }
    },
    {
      "cell_type": "code",
      "source": [
        "from sklearn.svm import SVC\n",
        "\n",
        "svm_poly = SVC(kernel=\"poly\", degree=1)\n",
        "svm_poly.fit(scaler_adv.transform(x_adv_train), y_adv_train.iloc[:,1])\n",
        "get_metrics(svm_poly, scaler_adv.transform(x_adv_test), y_adv_test.iloc[:,1], label='Evasive')"
      ],
      "metadata": {
        "colab": {
          "base_uri": "https://localhost:8080/",
          "height": 283
        },
        "id": "c_LoauN-Rcb6",
        "outputId": "34a11488-8dd4-4c4d-d392-604ec8fb9ad0"
      },
      "execution_count": null,
      "outputs": [
        {
          "output_type": "stream",
          "name": "stdout",
          "text": [
            "0.7711864406779662 0.9593843522873022 0.559322033898305 0.706660368445914\n"
          ]
        },
        {
          "output_type": "display_data",
          "data": {
            "text/plain": [
              "<Figure size 432x288 with 2 Axes>"
            ],
            "image/png": "[encoded data removed]"
          },
          "metadata": {
            "needs_background": "light"
          }
        }
      ]
    },
    {
      "cell_type": "code",
      "source": [
        "from sklearn.svm import SVC\n",
        "\n",
        "svm_poly = SVC(kernel=\"poly\", degree=2)\n",
        "svm_poly.fit(scaler_adv.transform(x_adv_train), y_adv_train.iloc[:,1])\n",
        "get_metrics(svm_poly, scaler_adv.transform(x_adv_test), y_adv_test.iloc[:,1], label='Evasive')"
      ],
      "metadata": {
        "colab": {
          "base_uri": "https://localhost:8080/",
          "height": 283
        },
        "id": "X8tELAZDWAiH",
        "outputId": "fe37229a-3e83-4d72-d4cd-f2961eba2032"
      },
      "execution_count": null,
      "outputs": [
        {
          "output_type": "stream",
          "name": "stdout",
          "text": [
            "0.7875214934905429 0.9492125984251969 0.6009471585244267 0.7359584859584859\n"
          ]
        },
        {
          "output_type": "display_data",
          "data": {
            "text/plain": [
              "<Figure size 432x288 with 2 Axes>"
            ],
            "image/png": "[encoded data removed]"
          },
          "metadata": {
            "needs_background": "light"
          }
        }
      ]
    },
    {
      "cell_type": "code",
      "source": [
        "from sklearn.svm import SVC\n",
        "\n",
        "svm_poly = SVC(kernel=\"poly\", degree=3)\n",
        "svm_poly.fit(scaler_adv.transform(x_adv_train), y_adv_train.iloc[:,1])\n",
        "get_metrics(svm_poly, scaler_adv.transform(x_adv_test), y_adv_test.iloc[:,1], label='Evasive')"
      ],
      "metadata": {
        "colab": {
          "base_uri": "https://localhost:8080/",
          "height": 283
        },
        "id": "RYGrkBZOWkzz",
        "outputId": "4213b4ea-d1b1-4a7d-a0e8-36a36f774749"
      },
      "execution_count": null,
      "outputs": [
        {
          "output_type": "stream",
          "name": "stdout",
          "text": [
            "0.7366740358634242 0.9814432989690721 0.4745762711864407 0.6397849462365591\n"
          ]
        },
        {
          "output_type": "display_data",
          "data": {
            "text/plain": [
              "<Figure size 432x288 with 2 Axes>"
            ],
            "image/png": "[encoded data removed]"
          },
          "metadata": {
            "needs_background": "light"
          }
        }
      ]
    },
    {
      "cell_type": "markdown",
      "source": [
        "####Naive Bayes"
      ],
      "metadata": {
        "id": "xegLnbFxSSWV"
      }
    },
    {
      "cell_type": "code",
      "source": [
        "from sklearn.naive_bayes import MultinomialNB\n",
        "\n",
        "nb = MultinomialNB()\n",
        "nb.fit(x_adv_train, y_adv_train.iloc[:,1])\n",
        "get_metrics(nb, x_adv_test, y_adv_test.iloc[:,1], label='Evasive')"
      ],
      "metadata": {
        "colab": {
          "base_uri": "https://localhost:8080/",
          "height": 283
        },
        "id": "93w7OAT-SUWO",
        "outputId": "d001c71c-c64b-40ed-9205-dcf3051cbadd"
      },
      "execution_count": null,
      "outputs": [
        {
          "output_type": "stream",
          "name": "stdout",
          "text": [
            "0.7397445345124048 0.787777439951353 0.6458125623130608 0.7097657855088345\n"
          ]
        },
        {
          "output_type": "display_data",
          "data": {
            "text/plain": [
              "<Figure size 432x288 with 2 Axes>"
            ],
            "image/png": "[encoded data removed]"
          },
          "metadata": {
            "needs_background": "light"
          }
        }
      ]
    },
    {
      "cell_type": "markdown",
      "source": [
        "####Random Forest"
      ],
      "metadata": {
        "id": "M-H4Hy57Sq96"
      }
    },
    {
      "cell_type": "code",
      "source": [
        "from sklearn.ensemble import RandomForestClassifier\n",
        "\n",
        "rf = RandomForestClassifier()\n",
        "rf.fit(x_adv_train, y_adv_train.iloc[:,1])\n",
        "get_metrics(rf, x_adv_test, y_adv_test.iloc[:,1], label='Evasive')"
      ],
      "metadata": {
        "colab": {
          "base_uri": "https://localhost:8080/",
          "height": 283
        },
        "id": "NMFaai7pS0Xz",
        "outputId": "4d48df60-9348-4208-d77c-fe898b029bb8"
      },
      "execution_count": null,
      "outputs": [
        {
          "output_type": "stream",
          "name": "stdout",
          "text": [
            "0.9627855563743551 0.976857804062741 0.9469092721834497 0.9616504239969624\n"
          ]
        },
        {
          "output_type": "display_data",
          "data": {
            "text/plain": [
              "<Figure size 432x288 with 2 Axes>"
            ],
            "image/png": "[encoded data removed]"
          },
          "metadata": {
            "needs_background": "light"
          }
        }
      ]
    },
    {
      "cell_type": "markdown",
      "source": [
        "####Adaboost"
      ],
      "metadata": {
        "id": "WLoBPfrsTMS2"
      }
    },
    {
      "cell_type": "code",
      "source": [
        "from sklearn.ensemble import AdaBoostClassifier\n",
        "\n",
        "ab = AdaBoostClassifier()\n",
        "ab.fit(x_adv_train, y_adv_train.iloc[:,1])\n",
        "get_metrics(ab, x_adv_test, y_adv_test.iloc[:,1], label='Evasive')"
      ],
      "metadata": {
        "colab": {
          "base_uri": "https://localhost:8080/",
          "height": 283
        },
        "id": "PgAh0MW2TO3P",
        "outputId": "5405e357-6f71-4859-f385-4a35c4e4d6d5"
      },
      "execution_count": null,
      "outputs": [
        {
          "output_type": "stream",
          "name": "stdout",
          "text": [
            "0.8447555883075412 0.903169014084507 0.767198404785643 0.8296495956873314\n"
          ]
        },
        {
          "output_type": "display_data",
          "data": {
            "text/plain": [
              "<Figure size 432x288 with 2 Axes>"
            ],
            "image/png": "[encoded data removed]"
          },
          "metadata": {
            "needs_background": "light"
          }
        }
      ]
    },
    {
      "cell_type": "markdown",
      "source": [
        "####LightGBM"
      ],
      "metadata": {
        "id": "XONSqXCZTgnk"
      }
    },
    {
      "cell_type": "code",
      "source": [
        "from lightgbm import LGBMClassifier\n",
        "\n",
        "lgbm = LGBMClassifier()\n",
        "lgbm.fit(x_adv_train, y_adv_train.iloc[:,1])\n",
        "get_metrics(lgbm, x_adv_test, y_adv_test.iloc[:,1], label='Evasive')"
      ],
      "metadata": {
        "colab": {
          "base_uri": "https://localhost:8080/",
          "height": 283
        },
        "id": "y0pMVyM8Tixl",
        "outputId": "ade79419-ab6a-495f-a03f-910cd85a0c61"
      },
      "execution_count": null,
      "outputs": [
        {
          "output_type": "stream",
          "name": "stdout",
          "text": [
            "0.9518545811839842 0.9763157894736842 0.9247258225324028 0.949820788530466\n"
          ]
        },
        {
          "output_type": "display_data",
          "data": {
            "text/plain": [
              "<Figure size 432x288 with 2 Axes>"
            ],
            "image/png": "[encoded data removed]"
          },
          "metadata": {
            "needs_background": "light"
          }
        }
      ]
    },
    {
      "cell_type": "markdown",
      "source": [
        "Fine tuning the LightGBM"
      ],
      "metadata": {
        "id": "3ufPVkWpUdRs"
      }
    },
    {
      "cell_type": "code",
      "source": [
        "ev_model = LGBMClassifier(max_depth = 10, max_leaf_nodes=2, n_estimators=500)\n",
        "ev_model.fit(x_adv_train, y_adv_train.iloc[:,1])"
      ],
      "metadata": {
        "colab": {
          "base_uri": "https://localhost:8080/"
        },
        "id": "ml9T1ROrmzmt",
        "outputId": "1ddcb8b6-f7b2-4f8f-9958-105865954c4a"
      },
      "execution_count": null,
      "outputs": [
        {
          "output_type": "execute_result",
          "data": {
            "text/plain": [
              "LGBMClassifier(max_depth=10, max_leaf_nodes=2, n_estimators=500)"
            ]
          },
          "metadata": {},
          "execution_count": 49
        }
      ]
    },
    {
      "cell_type": "code",
      "source": [
        "get_metrics(ev_model, x_adv_test, y_adv_test.iloc[:,1], label='Evasive')"
      ],
      "metadata": {
        "colab": {
          "base_uri": "https://localhost:8080/",
          "height": 283
        },
        "id": "cAu-MVO-w5tT",
        "outputId": "3bdf8b9b-40fb-4fde-f3ea-8e84e22f0c58"
      },
      "execution_count": null,
      "outputs": [
        {
          "output_type": "stream",
          "name": "stdout",
          "text": [
            "0.9684352738884795 0.9785878154473617 0.9568793619142573 0.9676118462507877\n"
          ]
        },
        {
          "output_type": "display_data",
          "data": {
            "text/plain": [
              "<Figure size 432x288 with 2 Axes>"
            ],
            "image/png": "[encoded data removed]"
          },
          "metadata": {
            "needs_background": "light"
          }
        }
      ]
    },
    {
      "cell_type": "code",
      "source": [
        "import pickle\n",
        "filename = 'LGBM_Evasion_detection_model.sav'\n",
        "pickle.dump(ev_model, open(filename, 'wb'))"
      ],
      "metadata": {
        "id": "yg1pqSVcd8wE"
      },
      "execution_count": null,
      "outputs": []
    },
    {
      "cell_type": "markdown",
      "source": [
        "###**Approach 1:** Building Combined Adversarial Model"
      ],
      "metadata": {
        "id": "852IzUM8uA1s"
      }
    },
    {
      "cell_type": "code",
      "source": [
        "from lightgbm import LGBMClassifier\n",
        "\n",
        "adv_model = LGBMClassifier(n_estimators=500, max_depth=10, max_leaf_nodes=2)\n",
        "adv_model.fit(x_adv_train, y_adv_train.iloc[:,0])"
      ],
      "metadata": {
        "colab": {
          "base_uri": "https://localhost:8080/"
        },
        "id": "9bx_fL4lPmhw",
        "outputId": "94f74372-0079-4366-c8a0-849b897faf46"
      },
      "execution_count": null,
      "outputs": [
        {
          "output_type": "execute_result",
          "data": {
            "text/plain": [
              "LGBMClassifier(max_depth=10, max_leaf_nodes=2, n_estimators=500)"
            ]
          },
          "metadata": {},
          "execution_count": 52
        }
      ]
    },
    {
      "cell_type": "markdown",
      "source": [
        "####Aggregate Results"
      ],
      "metadata": {
        "id": "Jwk0utwDuTwB"
      }
    },
    {
      "cell_type": "code",
      "source": [
        "get_metrics(adv_model, x_adv_test, y_adv_test.iloc[:,0])"
      ],
      "metadata": {
        "colab": {
          "base_uri": "https://localhost:8080/",
          "height": 283
        },
        "id": "ohbfZdiMygx1",
        "outputId": "0aca3483-4566-4ea9-fc51-7f017b9d20f9"
      },
      "execution_count": null,
      "outputs": [
        {
          "output_type": "stream",
          "name": "stdout",
          "text": [
            "0.9948415622697127 0.9968379446640316 0.9948717948717949 0.9958538993089833\n"
          ]
        },
        {
          "output_type": "display_data",
          "data": {
            "text/plain": [
              "<Figure size 432x288 with 2 Axes>"
            ],
            "image/png": "[encoded data removed]"
          },
          "metadata": {
            "needs_background": "light"
          }
        }
      ]
    },
    {
      "cell_type": "markdown",
      "source": [
        "####Evasive Only"
      ],
      "metadata": {
        "id": "rk9IcbreuXJs"
      }
    },
    {
      "cell_type": "code",
      "source": [
        "get_metrics(adv_model, x_e_test, y_e_test.iloc[:,0])"
      ],
      "metadata": {
        "colab": {
          "base_uri": "https://localhost:8080/",
          "height": 283
        },
        "id": "SaRFGb15ytBd",
        "outputId": "2b8335c9-59cf-47e2-e68e-8cdc7fe3a4b7"
      },
      "execution_count": null,
      "outputs": [
        {
          "output_type": "stream",
          "name": "stdout",
          "text": [
            "0.9930209371884346 0.9971291866028709 0.9939586645468999 0.9955414012738854\n"
          ]
        },
        {
          "output_type": "display_data",
          "data": {
            "text/plain": [
              "<Figure size 432x288 with 2 Axes>"
            ],
            "image/png": "[encoded data removed]"
          },
          "metadata": {
            "needs_background": "light"
          }
        }
      ]
    },
    {
      "cell_type": "markdown",
      "source": [
        "###Beingn Only"
      ],
      "metadata": {
        "id": "3-T_BMC6y0IG"
      }
    },
    {
      "cell_type": "code",
      "source": [
        "get_metrics(adv_model, x_n_e_test, y_n_e_test.iloc[:,0])"
      ],
      "metadata": {
        "colab": {
          "base_uri": "https://localhost:8080/",
          "height": 283
        },
        "id": "K0pYlYtIy2GJ",
        "outputId": "abbce355-ea08-49d2-bb0d-cc9772ff0ae1"
      },
      "execution_count": null,
      "outputs": [
        {
          "output_type": "stream",
          "name": "stdout",
          "text": [
            "0.9966101694915255 0.9963636363636363 0.9963636363636363 0.9963636363636363\n"
          ]
        },
        {
          "output_type": "display_data",
          "data": {
            "text/plain": [
              "<Figure size 432x288 with 2 Axes>"
            ],
            "image/png": "[encoded data removed]"
          },
          "metadata": {
            "needs_background": "light"
          }
        }
      ]
    },
    {
      "cell_type": "code",
      "source": [
        "import pickle\n",
        "filename = 'LGBM_Adv_model.sav'\n",
        "pickle.dump(adv_model, open(filename, 'wb'))"
      ],
      "metadata": {
        "id": "vihVLykKp7vc"
      },
      "execution_count": null,
      "outputs": []
    },
    {
      "cell_type": "markdown",
      "source": [
        "###**Approach 2:** Separating Evasive and Non Evasive Models"
      ],
      "metadata": {
        "id": "DdggWB3lZSEj"
      }
    },
    {
      "cell_type": "code",
      "source": [
        "def predict(X):\n",
        "  Y_pred = np.zeros((len(X),1))\n",
        "  X=X.values\n",
        "  pred = ev_model.predict(X)\n",
        "  \n",
        "  evasive_index = np.where(pred==1)\n",
        "  non_ev_index = np.where(pred==0)\n",
        "  \n",
        "  if np.size(evasive_index[0])>0:\n",
        "\n",
        "    ev_pred = evasive_model.predict(X[evasive_index[0],:])\n",
        "    Y_pred[evasive_index] = np.expand_dims(ev_pred,-1)\n",
        "\n",
        "  if np.size(non_ev_index[0])>0:\n",
        "    non_ev_pred = non_evasive_model.predict(X[non_ev_index[0],:])\n",
        "    Y_pred[non_ev_index] = np.expand_dims(non_ev_pred,-1)\n",
        "\n",
        "  return Y_pred"
      ],
      "metadata": {
        "id": "xsQYek4tZTae"
      },
      "execution_count": null,
      "outputs": []
    },
    {
      "cell_type": "code",
      "source": [
        "def predict_proba(X):\n",
        "  Y_pred = np.zeros((len(X),1))\n",
        "  X = X.values\n",
        "  pred = ev_model.predict(X)\n",
        "  \n",
        "  evasive_index = np.where(pred==1)\n",
        "  non_ev_index = np.where(pred==0)\n",
        "  \n",
        "  if np.size(evasive_index[0])>0:\n",
        "\n",
        "    ev_pred = evasive_model.predict_proba(X[evasive_index[0],:])[:,1]\n",
        "    Y_pred[evasive_index] = np.expand_dims(ev_pred,-1)\n",
        "\n",
        "  if np.size(non_ev_index[0])>0:\n",
        "    non_ev_pred = non_evasive_model.predict_proba(X[non_ev_index[0],:])[:,1]\n",
        "    Y_pred[non_ev_index] = np.expand_dims(non_ev_pred,-1)\n",
        "\n",
        "  return Y_pred"
      ],
      "metadata": {
        "id": "OXfeJTfEkymS"
      },
      "execution_count": null,
      "outputs": []
    },
    {
      "cell_type": "code",
      "source": [
        "x_adv_train = pd.concat([x_n_e_train, x_e_train])\n",
        "x_adv_test = pd.concat([x_n_e_test, x_e_test])\n",
        "y_adv_train = pd.concat([y_n_e_train, y_e_train])\n",
        "y_adv_test = pd.concat([y_n_e_test, y_e_test])"
      ],
      "metadata": {
        "id": "jkc4Sm6wIrZ4"
      },
      "execution_count": null,
      "outputs": []
    },
    {
      "cell_type": "code",
      "source": [
        "pred = predict(x_adv_test)\n",
        "\n",
        "y_true = y_adv_test.iloc[:,0]\n",
        "\n",
        "acc = accuracy_score(y_true, pred)\n",
        "prec = precision_score(y_true, pred)\n",
        "rec = recall_score(y_true, pred)\n",
        "f1 = f1_score(y_true, pred)\n",
        "\n",
        "print(acc, prec, rec, f1)"
      ],
      "metadata": {
        "colab": {
          "base_uri": "https://localhost:8080/"
        },
        "id": "f8Kbrf5Nai5W",
        "outputId": "458e2d3d-2c70-4be1-f28f-1037dd076a00"
      },
      "execution_count": null,
      "outputs": [
        {
          "output_type": "stream",
          "name": "stdout",
          "text": [
            "0.9943502824858758 0.9966389877421906 0.9942800788954635 0.9954581358609795\n"
          ]
        }
      ]
    },
    {
      "cell_type": "code",
      "source": [
        "pred = np.where(pred < 0.5, 0, 1)\n",
        "\n",
        "confusion = confusion_matrix(y_true, pred, normalize='true')\n",
        "print_confusion_matrix(confusion)"
      ],
      "metadata": {
        "colab": {
          "base_uri": "https://localhost:8080/",
          "height": 266
        },
        "id": "zDncswd9eS33",
        "outputId": "1898bb8f-81de-4e8c-b244-b28c6ba85868"
      },
      "execution_count": null,
      "outputs": [
        {
          "output_type": "display_data",
          "data": {
            "text/plain": [
              "<Figure size 432x288 with 2 Axes>"
            ],
            "image/png": "[encoded data removed]"
          },
          "metadata": {
            "needs_background": "light"
          }
        }
      ]
    },
    {
      "cell_type": "markdown",
      "source": [
        "###**Approach 3:** One model, with several labels"
      ],
      "metadata": {
        "id": "oIpoqns6sQyi"
      }
    },
    {
      "cell_type": "code",
      "source": [
        "x_adv_train = pd.concat([x_n_e_train, x_e_train])\n",
        "x_adv_test = pd.concat([x_n_e_test, x_e_test])\n",
        "y_adv_train = pd.concat([y_n_e_train, y_e_train])\n",
        "y_adv_test = pd.concat([y_n_e_test, y_e_test])"
      ],
      "metadata": {
        "id": "3ehAE3aSYoiv"
      },
      "execution_count": null,
      "outputs": []
    },
    {
      "cell_type": "code",
      "source": [
        "from sklearn.preprocessing import MinMaxScaler\n",
        "\n",
        "scaler = MinMaxScaler()\n",
        "x_adv_train = scaler.fit_transform(x_adv_train)\n",
        "x_adv_test = scaler.transform(x_adv_test)"
      ],
      "metadata": {
        "id": "aXkeYpbR1T2V"
      },
      "execution_count": null,
      "outputs": []
    },
    {
      "cell_type": "markdown",
      "source": [
        "###Testing different architectures"
      ],
      "metadata": {
        "id": "h06YqajUzhqF"
      }
    },
    {
      "cell_type": "markdown",
      "source": [
        "####Logistic Regression"
      ],
      "metadata": {
        "id": "InuyVmBXzmDE"
      }
    },
    {
      "cell_type": "code",
      "source": [
        "from sklearn.multioutput import MultiOutputClassifier\n",
        "from sklearn.tree import DecisionTreeClassifier\n",
        "from sklearn.ensemble import AdaBoostClassifier\n",
        "\n",
        "\n",
        "clf = MultiOutputClassifier(LogisticRegression())\n",
        "clf.fit(scaler_adv.transform(x_adv_train), y_adv_train)\n",
        "\n",
        "pred = clf.predict(scaler_adv.transform(x_adv_test))\n",
        "\n",
        "y_true = y_adv_test\n",
        "\n",
        "acc = accuracy_score(y_true, pred)\n",
        "prec = precision_score(y_true, pred, average='macro',)\n",
        "rec = recall_score(y_true, pred, average='macro')\n",
        "f1 = f1_score(y_true, pred, average='macro')\n",
        "\n",
        "print(acc, prec, rec, f1)"
      ],
      "metadata": {
        "colab": {
          "base_uri": "https://localhost:8080/"
        },
        "id": "Np_WfLM7zroI",
        "outputId": "cbfd5eda-f6dc-4b75-bfe3-951df2db2b5f"
      },
      "execution_count": null,
      "outputs": [
        {
          "output_type": "stream",
          "name": "stdout",
          "text": [
            "0.6637189879636453 0.8504018238431172 0.7856580160897977 0.7982331385464854\n"
          ]
        }
      ]
    },
    {
      "cell_type": "markdown",
      "source": [
        "####SVM RBF Kernel"
      ],
      "metadata": {
        "id": "y-NAkyX22Doa"
      }
    },
    {
      "cell_type": "code",
      "source": [
        "from sklearn.multioutput import MultiOutputClassifier\n",
        "from sklearn.tree import DecisionTreeClassifier\n",
        "from sklearn.ensemble import AdaBoostClassifier\n",
        "\n",
        "\n",
        "clf = MultiOutputClassifier(SVC())\n",
        "clf.fit(scaler_adv.transform(x_adv_train), y_adv_train)\n",
        "\n",
        "pred = clf.predict(scaler_adv.transform(x_adv_test))\n",
        "\n",
        "y_true = y_adv_test\n",
        "\n",
        "acc = accuracy_score(y_true, pred)\n",
        "prec = precision_score(y_true, pred, average='macro',)\n",
        "rec = recall_score(y_true, pred, average='macro')\n",
        "f1 = f1_score(y_true, pred, average='macro')\n",
        "\n",
        "print(acc, prec, rec, f1)"
      ],
      "metadata": {
        "colab": {
          "base_uri": "https://localhost:8080/"
        },
        "id": "nE82AXTc2Fgz",
        "outputId": "74e95a59-e289-47d8-8f87-8b94b7ef41e1"
      },
      "execution_count": null,
      "outputs": [
        {
          "output_type": "stream",
          "name": "stdout",
          "text": [
            "0.7901007123556866 0.9738484679264316 0.7970530715545671 0.866680602349392\n"
          ]
        }
      ]
    },
    {
      "cell_type": "markdown",
      "source": [
        "####SVM POLY Kernel"
      ],
      "metadata": {
        "id": "ynlZfmwS2ISc"
      }
    },
    {
      "cell_type": "code",
      "source": [
        "from sklearn.multioutput import MultiOutputClassifier\n",
        "from sklearn.tree import DecisionTreeClassifier\n",
        "from sklearn.ensemble import AdaBoostClassifier\n",
        "\n",
        "\n",
        "clf = MultiOutputClassifier(SVC(kernel='poly', degree=1))\n",
        "clf.fit(scaler_adv.transform(x_adv_train), y_adv_train)\n",
        "\n",
        "pred = clf.predict(scaler_adv.transform(x_adv_test))\n",
        "\n",
        "y_true = y_adv_test\n",
        "\n",
        "acc = accuracy_score(y_true, pred)\n",
        "prec = precision_score(y_true, pred, average='macro',)\n",
        "rec = recall_score(y_true, pred, average='macro')\n",
        "f1 = f1_score(y_true, pred, average='macro')\n",
        "\n",
        "print(acc, prec, rec, f1)"
      ],
      "metadata": {
        "colab": {
          "base_uri": "https://localhost:8080/"
        },
        "id": "LgwFFIus2Lgs",
        "outputId": "be11ce55-eb9b-4505-86c8-439971fe275e"
      },
      "execution_count": null,
      "outputs": [
        {
          "output_type": "stream",
          "name": "stdout",
          "text": [
            "0.6925816752640629 0.9090775352596732 0.7701935613278508 0.8112569012179855\n"
          ]
        }
      ]
    },
    {
      "cell_type": "code",
      "source": [
        "from sklearn.multioutput import MultiOutputClassifier\n",
        "from sklearn.tree import DecisionTreeClassifier\n",
        "from sklearn.ensemble import AdaBoostClassifier\n",
        "\n",
        "\n",
        "clf = MultiOutputClassifier(SVC(kernel='poly', degree=2))\n",
        "clf.fit(scaler_adv.transform(x_adv_train), y_adv_train)\n",
        "\n",
        "pred = clf.predict(scaler_adv.transform(x_adv_test))\n",
        "\n",
        "y_true = y_adv_test\n",
        "\n",
        "acc = accuracy_score(y_true, pred)\n",
        "prec = precision_score(y_true, pred, average='macro',)\n",
        "rec = recall_score(y_true, pred, average='macro')\n",
        "f1 = f1_score(y_true, pred, average='macro')\n",
        "\n",
        "print(acc, prec, rec, f1)"
      ],
      "metadata": {
        "colab": {
          "base_uri": "https://localhost:8080/"
        },
        "id": "ko_wzXDaYCWq",
        "outputId": "e512c509-e5ab-4964-aa77-5e3ef0ff804d"
      },
      "execution_count": null,
      "outputs": [
        {
          "output_type": "stream",
          "name": "stdout",
          "text": [
            "0.6955293539670843 0.8954410406793102 0.7916964589466315 0.8212919477480817\n"
          ]
        }
      ]
    },
    {
      "cell_type": "markdown",
      "source": [
        "####Naive Bayes"
      ],
      "metadata": {
        "id": "LN-ebLzd18Wi"
      }
    },
    {
      "cell_type": "code",
      "source": [
        "from sklearn.multioutput import MultiOutputClassifier\n",
        "from sklearn.tree import DecisionTreeClassifier\n",
        "from sklearn.ensemble import AdaBoostClassifier\n",
        "\n",
        "\n",
        "clf = MultiOutputClassifier(MultinomialNB())\n",
        "clf.fit(x_adv_train, y_adv_train)\n",
        "\n",
        "pred = clf.predict(x_adv_test)\n",
        "\n",
        "y_true = y_adv_test\n",
        "\n",
        "acc = accuracy_score(y_true, pred)\n",
        "prec = precision_score(y_true, pred, average='macro',)\n",
        "rec = recall_score(y_true, pred, average='macro')\n",
        "f1 = f1_score(y_true, pred, average='macro')\n",
        "\n",
        "print(acc, prec, rec, f1)"
      ],
      "metadata": {
        "colab": {
          "base_uri": "https://localhost:8080/"
        },
        "id": "nIPBD2sl16cT",
        "outputId": "2378abc3-062d-4abb-9983-fc1be0314430"
      },
      "execution_count": null,
      "outputs": [
        {
          "output_type": "stream",
          "name": "stdout",
          "text": [
            "0.5128960943257185 0.7774283305023837 0.7891120032407708 0.7408687216007033\n"
          ]
        }
      ]
    },
    {
      "cell_type": "markdown",
      "source": [
        "####Random Forest"
      ],
      "metadata": {
        "id": "eQNGj4103Dmn"
      }
    },
    {
      "cell_type": "code",
      "source": [
        "from sklearn.multioutput import MultiOutputClassifier\n",
        "from sklearn.tree import DecisionTreeClassifier\n",
        "from sklearn.ensemble import AdaBoostClassifier\n",
        "\n",
        "\n",
        "clf = MultiOutputClassifier(RandomForestClassifier())\n",
        "clf.fit(x_adv_train, y_adv_train)\n",
        "\n",
        "pred = clf.predict(x_adv_test)\n",
        "\n",
        "y_true = y_adv_test\n",
        "\n",
        "acc = accuracy_score(y_true, pred)\n",
        "prec = precision_score(y_true, pred, average='macro',)\n",
        "rec = recall_score(y_true, pred, average='macro')\n",
        "f1 = f1_score(y_true, pred, average='macro')\n",
        "\n",
        "print(acc, prec, rec, f1)"
      ],
      "metadata": {
        "colab": {
          "base_uri": "https://localhost:8080/"
        },
        "id": "aWlAptfb3IB_",
        "outputId": "bea66ec7-ca1a-4d43-c0bd-9ffb74af8a3c"
      },
      "execution_count": null,
      "outputs": [
        {
          "output_type": "stream",
          "name": "stdout",
          "text": [
            "0.9587324981577008 0.9870873142927064 0.9695304618688314 0.9781805767467192\n"
          ]
        }
      ]
    },
    {
      "cell_type": "markdown",
      "source": [
        "####Adaboost"
      ],
      "metadata": {
        "id": "tIWaW4QT3QDw"
      }
    },
    {
      "cell_type": "code",
      "source": [
        "from sklearn.multioutput import MultiOutputClassifier\n",
        "from sklearn.tree import DecisionTreeClassifier\n",
        "from sklearn.ensemble import AdaBoostClassifier\n",
        "\n",
        "\n",
        "clf = MultiOutputClassifier(AdaBoostClassifier())\n",
        "clf.fit(x_adv_train, y_adv_train)\n",
        "\n",
        "pred = clf.predict(x_adv_test)\n",
        "\n",
        "y_true = y_adv_test\n",
        "\n",
        "acc = accuracy_score(y_true, pred)\n",
        "prec = precision_score(y_true, pred, average='macro',)\n",
        "rec = recall_score(y_true, pred, average='macro')\n",
        "f1 = f1_score(y_true, pred, average='macro')\n",
        "\n",
        "print(acc, prec, rec, f1)"
      ],
      "metadata": {
        "colab": {
          "base_uri": "https://localhost:8080/"
        },
        "id": "Q2Dj9L9s3SCP",
        "outputId": "b8547f21-5a5c-4287-bd1f-74b778f5c211"
      },
      "execution_count": null,
      "outputs": [
        {
          "output_type": "stream",
          "name": "stdout",
          "text": [
            "0.826578236305576 0.952382634228137 0.8632328851709172 0.9034052586642957\n"
          ]
        }
      ]
    },
    {
      "cell_type": "markdown",
      "source": [
        "####Light GBM"
      ],
      "metadata": {
        "id": "Ui_83dC13Z9T"
      }
    },
    {
      "cell_type": "code",
      "source": [
        "from sklearn.multioutput import MultiOutputClassifier\n",
        "from sklearn.tree import DecisionTreeClassifier\n",
        "from sklearn.ensemble import AdaBoostClassifier\n",
        "\n",
        "\n",
        "clf = MultiOutputClassifier(LGBMClassifier())\n",
        "clf.fit(x_adv_train, y_adv_train)\n",
        "\n",
        "pred = clf.predict(x_adv_test)\n",
        "\n",
        "y_true = y_adv_test\n",
        "\n",
        "acc = accuracy_score(y_true, pred)\n",
        "prec = precision_score(y_true, pred, average='macro',)\n",
        "rec = recall_score(y_true, pred, average='macro')\n",
        "f1 = f1_score(y_true, pred, average='macro')\n",
        "\n",
        "print(acc, prec, rec, f1)"
      ],
      "metadata": {
        "colab": {
          "base_uri": "https://localhost:8080/"
        },
        "id": "KBmu3ge43b8F",
        "outputId": "ab40288d-6ef7-4165-f736-9ebe3120a1f2"
      },
      "execution_count": null,
      "outputs": [
        {
          "output_type": "stream",
          "name": "stdout",
          "text": [
            "0.9476787030213707 0.9864757257283323 0.9590098540669904 0.9723913781632869\n"
          ]
        }
      ]
    },
    {
      "cell_type": "markdown",
      "source": [
        "Fine tuning Random Forest "
      ],
      "metadata": {
        "id": "QZ98ztC44Bpb"
      }
    },
    {
      "cell_type": "code",
      "source": [
        "from sklearn.multioutput import MultiOutputClassifier\n",
        "from sklearn.tree import DecisionTreeClassifier\n",
        "from sklearn.ensemble import AdaBoostClassifier\n",
        "\n",
        "\n",
        "clf = MultiOutputClassifier(RandomForestClassifier(n_estimators=500, max_depth=10, max_leaf_nodes=2))\n",
        "clf.fit(x_adv_train, y_adv_train)\n",
        "\n",
        "pred = clf.predict(x_adv_test)\n",
        "\n",
        "y_true = y_adv_test\n",
        "\n",
        "acc = accuracy_score(y_true, pred)\n",
        "prec = precision_score(y_true, pred, average='macro',)\n",
        "rec = recall_score(y_true, pred, average='macro')\n",
        "f1 = f1_score(y_true, pred, average='macro')\n",
        "\n",
        "print(acc, prec, rec, f1)"
      ],
      "metadata": {
        "colab": {
          "base_uri": "https://localhost:8080/"
        },
        "id": "QiZAXdsl4DrZ",
        "outputId": "b48f5a15-54ef-454d-c5e6-8fc90e339d3d"
      },
      "execution_count": null,
      "outputs": [
        {
          "output_type": "stream",
          "name": "stdout",
          "text": [
            "0.7171456644559077 0.9035198949836484 0.7673910221996731 0.8188150579751439\n"
          ]
        }
      ]
    },
    {
      "cell_type": "markdown",
      "source": [
        "Fine tuning LGBM"
      ],
      "metadata": {
        "id": "jpPkroqv3vyG"
      }
    },
    {
      "cell_type": "code",
      "source": [
        "from sklearn.multioutput import MultiOutputClassifier\n",
        "from sklearn.tree import DecisionTreeClassifier\n",
        "from sklearn.ensemble import AdaBoostClassifier\n",
        "\n",
        "\n",
        "clf = MultiOutputClassifier(LGBMClassifier(n_estimators=300, max_depth=20, max_leaf_nodes=5))\n",
        "clf.fit(x_adv_train, y_adv_train)\n",
        "\n",
        "pred = clf.predict(x_adv_test)\n",
        "\n",
        "y_true = y_adv_test\n",
        "\n",
        "acc = accuracy_score(y_true, pred)\n",
        "prec = precision_score(y_true, pred, average='macro',)\n",
        "rec = recall_score(y_true, pred, average='macro')\n",
        "f1 = f1_score(y_true, pred, average='macro')\n",
        "\n",
        "print(acc, prec, rec, f1)"
      ],
      "metadata": {
        "colab": {
          "base_uri": "https://localhost:8080/"
        },
        "id": "i67KzY8p3xi-",
        "outputId": "da39319a-8e5c-4104-f04d-2662b2d30986"
      },
      "execution_count": null,
      "outputs": [
        {
          "output_type": "stream",
          "name": "stdout",
          "text": [
            "0.9622942765905182 0.9888902574208647 0.9721367947439732 0.9803842010794441\n"
          ]
        }
      ]
    },
    {
      "cell_type": "markdown",
      "source": [
        "####Testing the Malware Detection"
      ],
      "metadata": {
        "id": "iSBBCA181DPh"
      }
    },
    {
      "cell_type": "code",
      "source": [
        "pred = clf.predict(x_adv_test)[:,0]\n",
        "\n",
        "y_true = y_adv_test.iloc[:,0]\n",
        "\n",
        "acc = accuracy_score(y_true, pred)\n",
        "prec = precision_score(y_true, pred)\n",
        "rec = recall_score(y_true, pred)\n",
        "f1 = f1_score(y_true, pred)\n",
        "\n",
        "print(acc, prec, rec, f1)"
      ],
      "metadata": {
        "colab": {
          "base_uri": "https://localhost:8080/"
        },
        "id": "qdg1KmjCtEXM",
        "outputId": "34ad592c-f7bf-4709-ef93-02c4851165d8"
      },
      "execution_count": null,
      "outputs": [
        {
          "output_type": "stream",
          "name": "stdout",
          "text": [
            "0.9948415622697127 0.9968379446640316 0.9948717948717949 0.9958538993089833\n"
          ]
        }
      ]
    },
    {
      "cell_type": "markdown",
      "source": [
        "####Testing Evasion Detection"
      ],
      "metadata": {
        "id": "UnrIFWrE1Pid"
      }
    },
    {
      "cell_type": "code",
      "source": [
        "pred = clf.predict(x_adv_test)[:,1]\n",
        "\n",
        "y_true = y_adv_test.iloc[:,1]\n",
        "\n",
        "acc = accuracy_score(y_true, pred)\n",
        "prec = precision_score(y_true, pred)\n",
        "rec = recall_score(y_true, pred)\n",
        "f1 = f1_score(y_true, pred)\n",
        "\n",
        "print(acc, prec, rec, f1)"
      ],
      "metadata": {
        "colab": {
          "base_uri": "https://localhost:8080/"
        },
        "id": "JCh77YHC1K7K",
        "outputId": "b949ad5c-f3a5-430f-f31d-d362e90a5843"
      },
      "execution_count": null,
      "outputs": [
        {
          "output_type": "stream",
          "name": "stdout",
          "text": [
            "0.965978874969295 0.9809425701776977 0.9494017946161516 0.9649145028499051\n"
          ]
        }
      ]
    },
    {
      "cell_type": "code",
      "source": [
        "from sklearn.metrics import multilabel_confusion_matrix\n",
        "\n",
        "pred = clf.predict(x_adv_test)\n",
        "\n",
        "y_true = y_adv_test\n",
        "\n",
        "confusion = multilabel_confusion_matrix(y_true, pred)\n",
        "\n",
        "print_confusion_matrix(confusion[0]/np.expand_dims(confusion[0].sum(axis=1),-1))"
      ],
      "metadata": {
        "colab": {
          "base_uri": "https://localhost:8080/",
          "height": 266
        },
        "id": "0YAH2RToLyIf",
        "outputId": "7388e187-7c87-48e0-e346-5f0b5f8dc899"
      },
      "execution_count": null,
      "outputs": [
        {
          "output_type": "display_data",
          "data": {
            "text/plain": [
              "<Figure size 432x288 with 2 Axes>"
            ],
            "image/png": "[encoded data removed]"
          },
          "metadata": {
            "needs_background": "light"
          }
        }
      ]
    },
    {
      "cell_type": "code",
      "source": [
        "print_confusion_matrix(confusion[1]/np.expand_dims(confusion[1].sum(axis=1),-1), label='Evasive')"
      ],
      "metadata": {
        "colab": {
          "base_uri": "https://localhost:8080/",
          "height": 266
        },
        "id": "nbs-U1TvmXZc",
        "outputId": "07edb977-d874-4e76-e755-1ae2999ef4f5"
      },
      "execution_count": null,
      "outputs": [
        {
          "output_type": "display_data",
          "data": {
            "text/plain": [
              "<Figure size 432x288 with 2 Axes>"
            ],
            "image/png": "[encoded data removed]"
          },
          "metadata": {
            "needs_background": "light"
          }
        }
      ]
    },
    {
      "cell_type": "code",
      "source": [
        "import pickle\n",
        "filename = 'AdaBoost_MultiLabel_model.sav'\n",
        "pickle.dump(clf, open(filename, 'wb'))"
      ],
      "metadata": {
        "id": "oV6oGGWPMR1f"
      },
      "execution_count": null,
      "outputs": []
    },
    {
      "cell_type": "markdown",
      "source": [
        "#TESTING AGAINST OTHER DATASETS"
      ],
      "metadata": {
        "id": "ty3php7hJ7tF"
      }
    },
    {
      "cell_type": "code",
      "source": [
        "university = pd.read_csv('/content/classifier_university_1.csv')\n",
        "columns = ['size', 'count_page', 'title_len', 'count_image_total', 'count_obj', 'count_endobj',\n",
        "           'count_stream', 'count_endstream', 'count_xref', 'count_trailer', 'count_startxref',\n",
        "           'count_objstm', 'count_js', 'count_js_obs', 'count_javascript', 'count_javascript_obs',\n",
        "           'count_action', 'count_action_obs', 'count_acroform', 'count_acroform_obs', 'class']\n",
        "\n",
        "university = university[columns]\n",
        "university.columns = non_evasive.columns[:-1]\n",
        "university['pdfsize'] = university['pdfsize']/1000"
      ],
      "metadata": {
        "id": "G0MVYK_0bLeV"
      },
      "execution_count": null,
      "outputs": []
    },
    {
      "cell_type": "code",
      "source": [
        "x= university.iloc[:,:-1]\n",
        "y= university.iloc[:,-1]"
      ],
      "metadata": {
        "id": "o5NFKPxDoeUQ"
      },
      "execution_count": null,
      "outputs": []
    },
    {
      "cell_type": "code",
      "source": [
        "fpr = []\n",
        "tpr = []\n",
        "auc_list = []"
      ],
      "metadata": {
        "id": "SYjfi2KaW-mA"
      },
      "execution_count": null,
      "outputs": []
    },
    {
      "cell_type": "code",
      "source": [
        "y.value_counts()"
      ],
      "metadata": {
        "colab": {
          "base_uri": "https://localhost:8080/"
        },
        "id": "SWZ0y1nQwF7d",
        "outputId": "f4c514cf-cd77-442c-918e-e292cbec944a"
      },
      "execution_count": null,
      "outputs": [
        {
          "output_type": "execute_result",
          "data": {
            "text/plain": [
              "0    60631\n",
              "1    50213\n",
              "Name: class, dtype: int64"
            ]
          },
          "metadata": {},
          "execution_count": 77
        }
      ]
    },
    {
      "cell_type": "code",
      "source": [
        "len(y)"
      ],
      "metadata": {
        "id": "5PQWHQF3wZX0",
        "outputId": "d8a0a0e2-8bec-4f68-cdad-3e914653f19e",
        "colab": {
          "base_uri": "https://localhost:8080/"
        }
      },
      "execution_count": null,
      "outputs": [
        {
          "output_type": "execute_result",
          "data": {
            "text/plain": [
              "110844"
            ]
          },
          "metadata": {},
          "execution_count": 78
        }
      ]
    },
    {
      "cell_type": "markdown",
      "source": [
        "###Baseline Model"
      ],
      "metadata": {
        "id": "zr0gVZHd1kOw"
      }
    },
    {
      "cell_type": "code",
      "source": [
        "get_metrics(non_evasive_model, x, y)"
      ],
      "metadata": {
        "colab": {
          "base_uri": "https://localhost:8080/",
          "height": 283
        },
        "id": "3Fv58iYQ1ZGZ",
        "outputId": "44a1262d-0d06-4b5e-f0a8-b1d6f66858c1"
      },
      "execution_count": null,
      "outputs": [
        {
          "output_type": "stream",
          "name": "stdout",
          "text": [
            "0.9551351448883115 0.9903320905228474 0.9098440642861411 0.9483834137734185\n"
          ]
        },
        {
          "output_type": "display_data",
          "data": {
            "text/plain": [
              "<Figure size 432x288 with 2 Axes>"
            ],
            "image/png": "[encoded data removed]"
          },
          "metadata": {
            "needs_background": "light"
          }
        }
      ]
    },
    {
      "cell_type": "code",
      "source": [
        "from sklearn.metrics import roc_curve\n",
        "y_true = y\n",
        "x_norm = x.values\n",
        "probs = non_evasive_model.predict_proba(x_norm)\n",
        "fpr0, tpr0, thresholds0 = roc_curve(y, probs[:,1])"
      ],
      "metadata": {
        "id": "CkwjjqPQlCSs"
      },
      "execution_count": null,
      "outputs": []
    },
    {
      "cell_type": "code",
      "source": [
        "from sklearn.metrics import auc"
      ],
      "metadata": {
        "id": "ESoGFEnFXacU"
      },
      "execution_count": null,
      "outputs": []
    },
    {
      "cell_type": "code",
      "source": [
        "fpr.append(fpr0)\n",
        "tpr.append(tpr0)\n",
        "auc_list.append(auc(fpr0, tpr0))"
      ],
      "metadata": {
        "id": "MUuNOVJkXMIA"
      },
      "execution_count": null,
      "outputs": []
    },
    {
      "cell_type": "markdown",
      "source": [
        "### Approach 1"
      ],
      "metadata": {
        "id": "yP8kuC4s1nNN"
      }
    },
    {
      "cell_type": "code",
      "source": [
        "get_metrics(adv_model, x, y)"
      ],
      "metadata": {
        "colab": {
          "base_uri": "https://localhost:8080/",
          "height": 283
        },
        "id": "gL0LK3pC1qZD",
        "outputId": "3153b4ba-9e32-4a39-cb4e-7f5cbcbbbac2"
      },
      "execution_count": null,
      "outputs": [
        {
          "output_type": "stream",
          "name": "stdout",
          "text": [
            "0.9573454584821912 0.9857328976314047 0.919144444665724 0.9512748108910278\n"
          ]
        },
        {
          "output_type": "display_data",
          "data": {
            "text/plain": [
              "<Figure size 432x288 with 2 Axes>"
            ],
            "image/png": "[encoded data removed]"
          },
          "metadata": {
            "needs_background": "light"
          }
        }
      ]
    },
    {
      "cell_type": "code",
      "source": [
        "from sklearn.metrics import roc_curve\n",
        "y_true = y\n",
        "x_norm = x.values\n",
        "probs = adv_model.predict_proba(x_norm)\n",
        "fpr1, tpr1, thresholds1 = roc_curve(y, probs[:,1])"
      ],
      "metadata": {
        "id": "XihvtpuslPPR"
      },
      "execution_count": null,
      "outputs": []
    },
    {
      "cell_type": "code",
      "source": [
        "fpr.append(fpr1)\n",
        "tpr.append(tpr1)\n",
        "auc_list.append(auc(fpr1, tpr1))"
      ],
      "metadata": {
        "id": "4kYD4UcQXi_e"
      },
      "execution_count": null,
      "outputs": []
    },
    {
      "cell_type": "markdown",
      "source": [
        "###Approach 2"
      ],
      "metadata": {
        "id": "CKVJ57it19ZG"
      }
    },
    {
      "cell_type": "code",
      "source": [
        "pred = predict(x)\n",
        "\n",
        "y_true = y\n",
        "\n",
        "acc = accuracy_score(y_true, pred)\n",
        "prec = precision_score(y_true, pred)\n",
        "rec = recall_score(y_true, pred)\n",
        "f1 = f1_score(y_true, pred)\n",
        "\n",
        "print(acc, prec, rec, f1)\n",
        "confusion = confusion_matrix(y_true, pred, normalize='true')\n",
        "print_confusion_matrix(confusion)"
      ],
      "metadata": {
        "colab": {
          "base_uri": "https://localhost:8080/",
          "height": 283
        },
        "id": "UAEHkYdPfWqp",
        "outputId": "e02c0014-ad91-4b8c-cd7e-ecb514ec6232"
      },
      "execution_count": null,
      "outputs": [
        {
          "output_type": "stream",
          "name": "stdout",
          "text": [
            "0.9532315686911335 0.9848814420778326 0.9107402465496983 0.9463609461333113\n"
          ]
        },
        {
          "output_type": "display_data",
          "data": {
            "text/plain": [
              "<Figure size 432x288 with 2 Axes>"
            ],
            "image/png": "[encoded data removed]"
          },
          "metadata": {
            "needs_background": "light"
          }
        }
      ]
    },
    {
      "cell_type": "code",
      "source": [
        "from sklearn.metrics import roc_curve, auc\n",
        "y_true = y\n",
        "probs = predict_proba(x)\n",
        "fpr2, tpr2, thresholds2 = roc_curve(y, probs)"
      ],
      "metadata": {
        "id": "JolentvDlWla"
      },
      "execution_count": null,
      "outputs": []
    },
    {
      "cell_type": "code",
      "source": [
        "fpr.append(fpr2)\n",
        "tpr.append(tpr2)\n",
        "auc_list.append(auc(fpr2, tpr2))"
      ],
      "metadata": {
        "id": "XL2F2Mq2XnpP"
      },
      "execution_count": null,
      "outputs": []
    },
    {
      "cell_type": "markdown",
      "source": [
        "###Approach 3"
      ],
      "metadata": {
        "id": "K8W2n3JN2F4i"
      }
    },
    {
      "cell_type": "code",
      "source": [
        "pred = clf.predict(x)\n",
        "\n",
        "y_true = y\n",
        "\n",
        "acc = accuracy_score(y_true, pred[:,0])\n",
        "prec = precision_score(y_true, pred[:,0])\n",
        "rec = recall_score(y_true, pred[:,0])\n",
        "f1 = f1_score(y_true, pred[:,0])\n",
        "\n",
        "print(acc, prec, rec, f1)\n",
        "\n",
        "\n",
        "confusion = confusion_matrix(y_true, pred[:,0], normalize='true')\n",
        "\n",
        "print_confusion_matrix(confusion)"
      ],
      "metadata": {
        "colab": {
          "base_uri": "https://localhost:8080/",
          "height": 283
        },
        "id": "lExce2JUfX8W",
        "outputId": "d0a1f533-b6d6-4761-ad9d-d5b1867604cc"
      },
      "execution_count": null,
      "outputs": [
        {
          "output_type": "stream",
          "name": "stdout",
          "text": [
            "0.9525549420807622 0.9860942906574395 0.908071614920439 0.9454760349600323\n"
          ]
        },
        {
          "output_type": "display_data",
          "data": {
            "text/plain": [
              "<Figure size 432x288 with 2 Axes>"
            ],
            "image/png": "[encoded data removed]"
          },
          "metadata": {
            "needs_background": "light"
          }
        }
      ]
    },
    {
      "cell_type": "code",
      "source": [
        "from sklearn.metrics import roc_curve\n",
        "y_true = y\n",
        "x_norm = x.values\n",
        "probs = clf.predict_proba(x_norm)\n",
        "fpr3, tpr3, thresholds3 = roc_curve(y, probs[0][:,1])"
      ],
      "metadata": {
        "id": "fyk5-7Qolhtb"
      },
      "execution_count": null,
      "outputs": []
    },
    {
      "cell_type": "code",
      "source": [
        "fpr.append(fpr3)\n",
        "tpr.append(tpr3)\n",
        "auc_list.append(auc(fpr3, tpr3))"
      ],
      "metadata": {
        "id": "UyLovpaqXsQC"
      },
      "execution_count": null,
      "outputs": []
    },
    {
      "cell_type": "code",
      "source": [
        "plt.rcParams.update({'font.size': 20})\n",
        "plt.figure(figsize = (10,10))\n",
        "lw = 2\n",
        "labels = [\"Baseline\", \"Approach 1\", \"Approach 2\", \"Approach 3\"]\n",
        "colors = [\"blue\", \"red\", \"green\" , \"orange\"]\n",
        "for i in range(4):\n",
        "  plt.plot(\n",
        "      fpr[i],\n",
        "      tpr[i],\n",
        "      lw=lw,\n",
        "      color = colors[i],\n",
        "      label= labels[i] + \" (area = %0.2f)\" % auc_list[i],\n",
        "  )\n",
        "plt.plot([0, 1], [0, 1], lw=lw, linestyle=\"--\")\n",
        "plt.xlim([0.0, 1.0])\n",
        "plt.ylim([0.0, 1.05])\n",
        "plt.xlabel(\"False Positive Rate\")\n",
        "plt.ylabel(\"True Positive Rate\")\n",
        "#plt.title(\"Receiver operating characteristic for the baseline and the 3 approaches\")\n",
        "plt.legend(loc=\"lower right\")\n",
        "plt.show()"
      ],
      "metadata": {
        "colab": {
          "base_uri": "https://localhost:8080/",
          "height": 624
        },
        "id": "5RKzACMGWCPP",
        "outputId": "30de1204-b4be-4fa6-8222-1d5f755e2aad"
      },
      "execution_count": null,
      "outputs": [
        {
          "output_type": "display_data",
          "data": {
            "text/plain": [
              "<Figure size 720x720 with 1 Axes>"
            ],
            "image/png": "[encoded data removed]"
          },
          "metadata": {
            "needs_background": "light"
          }
        }
      ]
    },
    {
      "cell_type": "markdown",
      "source": [
        "##TESTING AGAINST EVASION ATTACKS"
      ],
      "metadata": {
        "id": "a25lL6YssQLO"
      }
    },
    {
      "cell_type": "markdown",
      "source": [
        "##Generating Evasive Data"
      ],
      "metadata": {
        "id": "IDleZk_hWRga"
      }
    },
    {
      "cell_type": "code",
      "source": [
        "evasive.drop(columns='Evasive', axis=0, inplace=True)"
      ],
      "metadata": {
        "id": "mlp-Fm_zWgKB"
      },
      "execution_count": null,
      "outputs": []
    },
    {
      "cell_type": "code",
      "source": [
        "y_true = evasive.iloc[:,-1]\n",
        "x_ev = evasive.iloc[:,:-1]\n",
        "\n",
        "pred=non_evasive_model.predict(x_ev)\n",
        "acc = accuracy_score(y_true, pred)\n",
        "prec = precision_score(y_true, pred)\n",
        "rec = recall_score(y_true, pred)\n",
        "\n",
        "print(acc, prec, rec)"
      ],
      "metadata": {
        "colab": {
          "base_uri": "https://localhost:8080/"
        },
        "id": "6Pv2ZS4_nW9t",
        "outputId": "e01acc70-ce94-4484-86ca-c77963699fe5"
      },
      "execution_count": null,
      "outputs": [
        {
          "output_type": "stream",
          "name": "stdout",
          "text": [
            "0.6530235804377088 0.9800591651144954 0.5689117852827069\n"
          ]
        }
      ]
    },
    {
      "cell_type": "code",
      "source": [
        "wrong = np.abs(y_true.values-pred)\n",
        "wrong"
      ],
      "metadata": {
        "colab": {
          "base_uri": "https://localhost:8080/"
        },
        "id": "y0H3EiMwn2nm",
        "outputId": "17b959d3-e701-4fdd-d2fc-df74ec74efb0"
      },
      "execution_count": null,
      "outputs": [
        {
          "output_type": "execute_result",
          "data": {
            "text/plain": [
              "array([0, 0, 1, ..., 0, 0, 0])"
            ]
          },
          "metadata": {},
          "execution_count": 75
        }
      ]
    },
    {
      "cell_type": "code",
      "source": [
        "wrong.sum()"
      ],
      "metadata": {
        "colab": {
          "base_uri": "https://localhost:8080/"
        },
        "id": "-JxbVrhDn_AW",
        "outputId": "a527f113-0460-49ce-efe4-164cccf09c25"
      },
      "execution_count": null,
      "outputs": [
        {
          "output_type": "execute_result",
          "data": {
            "text/plain": [
              "6960"
            ]
          },
          "metadata": {},
          "execution_count": 76
        }
      ]
    },
    {
      "cell_type": "code",
      "source": [
        "evasive['Real Evasive'] = wrong"
      ],
      "metadata": {
        "id": "VAn6OxQZoTxf"
      },
      "execution_count": null,
      "outputs": []
    },
    {
      "cell_type": "code",
      "source": [
        "evasive['Real Evasive'].value_counts()"
      ],
      "metadata": {
        "colab": {
          "base_uri": "https://localhost:8080/"
        },
        "id": "-UNK9PyCo0Dk",
        "outputId": "4cab812b-0a18-4792-e313-635a6270a023"
      },
      "execution_count": null,
      "outputs": [
        {
          "output_type": "execute_result",
          "data": {
            "text/plain": [
              "0    13099\n",
              "1     6960\n",
              "Name: Real Evasive, dtype: int64"
            ]
          },
          "metadata": {},
          "execution_count": 78
        }
      ]
    },
    {
      "cell_type": "code",
      "source": [
        "most_evasive = evasive[evasive['Real Evasive']==1]\n",
        "len(most_evasive)"
      ],
      "metadata": {
        "colab": {
          "base_uri": "https://localhost:8080/"
        },
        "id": "Ul7i42O5omAn",
        "outputId": "eb1132c8-88f4-4c15-8bb8-4f1762df5160"
      },
      "execution_count": null,
      "outputs": [
        {
          "output_type": "execute_result",
          "data": {
            "text/plain": [
              "6960"
            ]
          },
          "metadata": {},
          "execution_count": 79
        }
      ]
    },
    {
      "cell_type": "code",
      "source": [
        "most_evasive.drop(columns=\"Real Evasive\", inplace=True)"
      ],
      "metadata": {
        "id": "BjHzVuvboe2g"
      },
      "execution_count": null,
      "outputs": []
    },
    {
      "cell_type": "code",
      "source": [
        "most_evasive_malware = most_evasive[most_evasive['class']==1]\n",
        "most_evasive_not_malware = most_evasive[most_evasive['class']==0]"
      ],
      "metadata": {
        "id": "tM42ySqn2uhj"
      },
      "execution_count": null,
      "outputs": []
    },
    {
      "cell_type": "code",
      "source": [
        "len(most_evasive_malware)"
      ],
      "metadata": {
        "id": "PiV28fEVKS4P",
        "colab": {
          "base_uri": "https://localhost:8080/"
        },
        "outputId": "431adeeb-4224-425c-df77-a8b7730c7090"
      },
      "execution_count": null,
      "outputs": [
        {
          "output_type": "execute_result",
          "data": {
            "text/plain": [
              "6778"
            ]
          },
          "metadata": {},
          "execution_count": 85
        }
      ]
    },
    {
      "cell_type": "code",
      "source": [
        "len(most_evasive_not_malware)"
      ],
      "metadata": {
        "colab": {
          "base_uri": "https://localhost:8080/"
        },
        "id": "CsODmxThoURx",
        "outputId": "0d554eae-6781-494f-8ac0-8c288ada9c4f"
      },
      "execution_count": null,
      "outputs": [
        {
          "output_type": "execute_result",
          "data": {
            "text/plain": [
              "182"
            ]
          },
          "metadata": {},
          "execution_count": 86
        }
      ]
    },
    {
      "cell_type": "code",
      "source": [
        "!pip install sdv"
      ],
      "metadata": {
        "id": "vjLMEFqhnQwl"
      },
      "execution_count": null,
      "outputs": []
    },
    {
      "cell_type": "code",
      "source": [
        "from sdv.tabular import TVAE\n",
        "model = TVAE()\n",
        "model.fit(most_evasive_malware)"
      ],
      "metadata": {
        "id": "F0ORfVnao9xh"
      },
      "execution_count": null,
      "outputs": []
    },
    {
      "cell_type": "code",
      "source": [
        "new_data_malware= model.sample(num_rows=450000,randomize_samples=False)\n",
        "new_data_malware.head()"
      ],
      "metadata": {
        "colab": {
          "base_uri": "https://localhost:8080/",
          "height": 317
        },
        "id": "NQ0pfLOrpTi5",
        "outputId": "ecb21845-5da7-4422-a77c-0a4627ceef41"
      },
      "execution_count": null,
      "outputs": [
        {
          "output_type": "execute_result",
          "data": {
            "text/plain": [
              "   pdfsize  pages  title characters  images  obj  endobj  stream  endstream  \\\n",
              "0  644.326     70                 0       1  348     351     128        128   \n",
              "1  648.050     68                 0       1  348     345     124        124   \n",
              "2  696.506     68                 0       1  353     353     128        125   \n",
              "3  715.926     68                 0       0  759     667     250        192   \n",
              "4  707.102     70                10       2  388     373     141        138   \n",
              "\n",
              "   xref  trailer  ...  ObjStm  JS  OBS_JS  Javascript  OBS_Javascript  \\\n",
              "0     1        1  ...       0   1       0           1               0   \n",
              "1     1        1  ...       0   1       0           1               0   \n",
              "2     1        1  ...       0   1       0           1               0   \n",
              "3     1        1  ...       0   1       0           1               0   \n",
              "4     1        1  ...       0   1       0           1               0   \n",
              "\n",
              "   OpenAction  OBS_OpenAction  Acroform  OBS_Acroform  class  \n",
              "0           1               0         1             0      1  \n",
              "1           0               0         1             0      1  \n",
              "2           0               0         1             0      1  \n",
              "3           1               0         1             0      1  \n",
              "4           1               0         1             0      1  \n",
              "\n",
              "[5 rows x 21 columns]"
            ],
            "text/html": [
              "\n",
              "  <div id=\"df-682073a3-0f4d-43a0-b278-287d4504c085\">\n",
              "    <div class=\"colab-df-container\">\n",
              "      <div>\n",
              "<style scoped>\n",
              "    .dataframe tbody tr th:only-of-type {\n",
              "        vertical-align: middle;\n",
              "    }\n",
              "\n",
              "    .dataframe tbody tr th {\n",
              "        vertical-align: top;\n",
              "    }\n",
              "\n",
              "    .dataframe thead th {\n",
              "        text-align: right;\n",
              "    }\n",
              "</style>\n",
              "<table border=\"1\" class=\"dataframe\">\n",
              "  <thead>\n",
              "    <tr style=\"text-align: right;\">\n",
              "      <th></th>\n",
              "      <th>pdfsize</th>\n",
              "      <th>pages</th>\n",
              "      <th>title characters</th>\n",
              "      <th>images</th>\n",
              "      <th>obj</th>\n",
              "      <th>endobj</th>\n",
              "      <th>stream</th>\n",
              "      <th>endstream</th>\n",
              "      <th>xref</th>\n",
              "      <th>trailer</th>\n",
              "      <th>...</th>\n",
              "      <th>ObjStm</th>\n",
              "      <th>JS</th>\n",
              "      <th>OBS_JS</th>\n",
              "      <th>Javascript</th>\n",
              "      <th>OBS_Javascript</th>\n",
              "      <th>OpenAction</th>\n",
              "      <th>OBS_OpenAction</th>\n",
              "      <th>Acroform</th>\n",
              "      <th>OBS_Acroform</th>\n",
              "      <th>class</th>\n",
              "    </tr>\n",
              "  </thead>\n",
              "  <tbody>\n",
              "    <tr>\n",
              "      <th>0</th>\n",
              "      <td>644.326</td>\n",
              "      <td>70</td>\n",
              "      <td>0</td>\n",
              "      <td>1</td>\n",
              "      <td>348</td>\n",
              "      <td>351</td>\n",
              "      <td>128</td>\n",
              "      <td>128</td>\n",
              "      <td>1</td>\n",
              "      <td>1</td>\n",
              "      <td>...</td>\n",
              "      <td>0</td>\n",
              "      <td>1</td>\n",
              "      <td>0</td>\n",
              "      <td>1</td>\n",
              "      <td>0</td>\n",
              "      <td>1</td>\n",
              "      <td>0</td>\n",
              "      <td>1</td>\n",
              "      <td>0</td>\n",
              "      <td>1</td>\n",
              "    </tr>\n",
              "    <tr>\n",
              "      <th>1</th>\n",
              "      <td>648.050</td>\n",
              "      <td>68</td>\n",
              "      <td>0</td>\n",
              "      <td>1</td>\n",
              "      <td>348</td>\n",
              "      <td>345</td>\n",
              "      <td>124</td>\n",
              "      <td>124</td>\n",
              "      <td>1</td>\n",
              "      <td>1</td>\n",
              "      <td>...</td>\n",
              "      <td>0</td>\n",
              "      <td>1</td>\n",
              "      <td>0</td>\n",
              "      <td>1</td>\n",
              "      <td>0</td>\n",
              "      <td>0</td>\n",
              "      <td>0</td>\n",
              "      <td>1</td>\n",
              "      <td>0</td>\n",
              "      <td>1</td>\n",
              "    </tr>\n",
              "    <tr>\n",
              "      <th>2</th>\n",
              "      <td>696.506</td>\n",
              "      <td>68</td>\n",
              "      <td>0</td>\n",
              "      <td>1</td>\n",
              "      <td>353</td>\n",
              "      <td>353</td>\n",
              "      <td>128</td>\n",
              "      <td>125</td>\n",
              "      <td>1</td>\n",
              "      <td>1</td>\n",
              "      <td>...</td>\n",
              "      <td>0</td>\n",
              "      <td>1</td>\n",
              "      <td>0</td>\n",
              "      <td>1</td>\n",
              "      <td>0</td>\n",
              "      <td>0</td>\n",
              "      <td>0</td>\n",
              "      <td>1</td>\n",
              "      <td>0</td>\n",
              "      <td>1</td>\n",
              "    </tr>\n",
              "    <tr>\n",
              "      <th>3</th>\n",
              "      <td>715.926</td>\n",
              "      <td>68</td>\n",
              "      <td>0</td>\n",
              "      <td>0</td>\n",
              "      <td>759</td>\n",
              "      <td>667</td>\n",
              "      <td>250</td>\n",
              "      <td>192</td>\n",
              "      <td>1</td>\n",
              "      <td>1</td>\n",
              "      <td>...</td>\n",
              "      <td>0</td>\n",
              "      <td>1</td>\n",
              "      <td>0</td>\n",
              "      <td>1</td>\n",
              "      <td>0</td>\n",
              "      <td>1</td>\n",
              "      <td>0</td>\n",
              "      <td>1</td>\n",
              "      <td>0</td>\n",
              "      <td>1</td>\n",
              "    </tr>\n",
              "    <tr>\n",
              "      <th>4</th>\n",
              "      <td>707.102</td>\n",
              "      <td>70</td>\n",
              "      <td>10</td>\n",
              "      <td>2</td>\n",
              "      <td>388</td>\n",
              "      <td>373</td>\n",
              "      <td>141</td>\n",
              "      <td>138</td>\n",
              "      <td>1</td>\n",
              "      <td>1</td>\n",
              "      <td>...</td>\n",
              "      <td>0</td>\n",
              "      <td>1</td>\n",
              "      <td>0</td>\n",
              "      <td>1</td>\n",
              "      <td>0</td>\n",
              "      <td>1</td>\n",
              "      <td>0</td>\n",
              "      <td>1</td>\n",
              "      <td>0</td>\n",
              "      <td>1</td>\n",
              "    </tr>\n",
              "  </tbody>\n",
              "</table>\n",
              "<p>5 rows × 21 columns</p>\n",
              "</div>\n",
              "      <button class=\"colab-df-convert\" onclick=\"convertToInteractive('df-682073a3-0f4d-43a0-b278-287d4504c085')\"\n",
              "              title=\"Convert this dataframe to an interactive table.\"\n",
              "              style=\"display:none;\">\n",
              "        \n",
              "  <svg xmlns=\"http://www.w3.org/2000/svg\" height=\"24px\"viewBox=\"0 0 24 24\"\n",
              "       width=\"24px\">\n",
              "    <path d=\"M0 0h24v24H0V0z\" fill=\"none\"/>\n",
              "    <path d=\"M18.56 5.44l.94 2.06.94-2.06 2.06-.94-2.06-.94-.94-2.06-.94 2.06-2.06.94zm-11 1L8.5 8.5l.94-2.06 2.06-.94-2.06-.94L8.5 2.5l-.94 2.06-2.06.94zm10 10l.94 2.06.94-2.06 2.06-.94-2.06-.94-.94-2.06-.94 2.06-2.06.94z\"/><path d=\"M17.41 7.96l-1.37-1.37c-.4-.4-.92-.59-1.43-.59-.52 0-1.04.2-1.43.59L10.3 9.45l-7.72 7.72c-.78.78-.78 2.05 0 2.83L4 21.41c.39.39.9.59 1.41.59.51 0 1.02-.2 1.41-.59l7.78-7.78 2.81-2.81c.8-.78.8-2.07 0-2.86zM5.41 20L4 18.59l7.72-7.72 1.47 1.35L5.41 20z\"/>\n",
              "  </svg>\n",
              "      </button>\n",
              "      \n",
              "  <style>\n",
              "    .colab-df-container {\n",
              "      display:flex;\n",
              "      flex-wrap:wrap;\n",
              "      gap: 12px;\n",
              "    }\n",
              "\n",
              "    .colab-df-convert {\n",
              "      background-color: #E8F0FE;\n",
              "      border: none;\n",
              "      border-radius: 50%;\n",
              "      cursor: pointer;\n",
              "      display: none;\n",
              "      fill: #1967D2;\n",
              "      height: 32px;\n",
              "      padding: 0 0 0 0;\n",
              "      width: 32px;\n",
              "    }\n",
              "\n",
              "    .colab-df-convert:hover {\n",
              "      background-color: #E2EBFA;\n",
              "      box-shadow: 0px 1px 2px rgba(60, 64, 67, 0.3), 0px 1px 3px 1px rgba(60, 64, 67, 0.15);\n",
              "      fill: #174EA6;\n",
              "    }\n",
              "\n",
              "    [theme=dark] .colab-df-convert {\n",
              "      background-color: #3B4455;\n",
              "      fill: #D2E3FC;\n",
              "    }\n",
              "\n",
              "    [theme=dark] .colab-df-convert:hover {\n",
              "      background-color: #434B5C;\n",
              "      box-shadow: 0px 1px 3px 1px rgba(0, 0, 0, 0.15);\n",
              "      filter: drop-shadow(0px 1px 2px rgba(0, 0, 0, 0.3));\n",
              "      fill: #FFFFFF;\n",
              "    }\n",
              "  </style>\n",
              "\n",
              "      <script>\n",
              "        const buttonEl =\n",
              "          document.querySelector('#df-682073a3-0f4d-43a0-b278-287d4504c085 button.colab-df-convert');\n",
              "        buttonEl.style.display =\n",
              "          google.colab.kernel.accessAllowed ? 'block' : 'none';\n",
              "\n",
              "        async function convertToInteractive(key) {\n",
              "          const element = document.querySelector('#df-682073a3-0f4d-43a0-b278-287d4504c085');\n",
              "          const dataTable =\n",
              "            await google.colab.kernel.invokeFunction('convertToInteractive',\n",
              "                                                     [key], {});\n",
              "          if (!dataTable) return;\n",
              "\n",
              "          const docLinkHtml = 'Like what you see? Visit the ' +\n",
              "            '<a target=\"_blank\" href=https://colab.research.google.com/notebooks/data_table.ipynb>data table notebook</a>'\n",
              "            + ' to learn more about interactive tables.';\n",
              "          element.innerHTML = '';\n",
              "          dataTable['output_type'] = 'display_data';\n",
              "          await google.colab.output.renderOutput(dataTable, element);\n",
              "          const docLink = document.createElement('div');\n",
              "          docLink.innerHTML = docLinkHtml;\n",
              "          element.appendChild(docLink);\n",
              "        }\n",
              "      </script>\n",
              "    </div>\n",
              "  </div>\n",
              "  "
            ]
          },
          "metadata": {},
          "execution_count": 88
        }
      ]
    },
    {
      "cell_type": "code",
      "source": [
        "model2 = TVAE(epochs=500, decompress_dims=(256,256), compress_dims=(256,256), embedding_dim=256)\n",
        "model2.fit(most_evasive_not_malware)"
      ],
      "metadata": {
        "id": "kxPJImuapme4"
      },
      "execution_count": null,
      "outputs": []
    },
    {
      "cell_type": "code",
      "source": [
        "new_data_not_malware= model2.sample(num_rows=50000,randomize_samples=False)\n",
        "new_data_not_malware.head()"
      ],
      "metadata": {
        "colab": {
          "base_uri": "https://localhost:8080/",
          "height": 317
        },
        "id": "Fyv1ibmZpsvB",
        "outputId": "8987efa3-223d-4521-a691-a2260c7272f5"
      },
      "execution_count": null,
      "outputs": [
        {
          "output_type": "execute_result",
          "data": {
            "text/plain": [
              "   pdfsize  pages  title characters  images  obj  endobj  stream  endstream  \\\n",
              "0     44.0      1                 0       0    9       8       2          2   \n",
              "1     84.0      1                 0       1   10       6       2          2   \n",
              "2     55.0      1                 1       1    5      10       2          2   \n",
              "3     47.0      1                 0       1   11      10       2          4   \n",
              "4     35.0      1                 0       1    9       6       2          3   \n",
              "\n",
              "   xref  trailer  ...  ObjStm  JS  OBS_JS  Javascript  OBS_Javascript  \\\n",
              "0     1        1  ...       0   0       0           0               0   \n",
              "1     1        1  ...       0   0       0           0               0   \n",
              "2     1        1  ...       0   0       0           0               0   \n",
              "3     1        1  ...       0   0       0           0               0   \n",
              "4     1        1  ...       0   0       0           0               0   \n",
              "\n",
              "   OpenAction  OBS_OpenAction  Acroform  OBS_Acroform  class  \n",
              "0           0               0         2             0      0  \n",
              "1           0               0         2             0      0  \n",
              "2           0               0         2             0      0  \n",
              "3           0               0         2             0      0  \n",
              "4           0               0         2             0      0  \n",
              "\n",
              "[5 rows x 21 columns]"
            ],
            "text/html": [
              "\n",
              "  <div id=\"df-dd131577-4674-4a8f-a369-030673ca9f10\">\n",
              "    <div class=\"colab-df-container\">\n",
              "      <div>\n",
              "<style scoped>\n",
              "    .dataframe tbody tr th:only-of-type {\n",
              "        vertical-align: middle;\n",
              "    }\n",
              "\n",
              "    .dataframe tbody tr th {\n",
              "        vertical-align: top;\n",
              "    }\n",
              "\n",
              "    .dataframe thead th {\n",
              "        text-align: right;\n",
              "    }\n",
              "</style>\n",
              "<table border=\"1\" class=\"dataframe\">\n",
              "  <thead>\n",
              "    <tr style=\"text-align: right;\">\n",
              "      <th></th>\n",
              "      <th>pdfsize</th>\n",
              "      <th>pages</th>\n",
              "      <th>title characters</th>\n",
              "      <th>images</th>\n",
              "      <th>obj</th>\n",
              "      <th>endobj</th>\n",
              "      <th>stream</th>\n",
              "      <th>endstream</th>\n",
              "      <th>xref</th>\n",
              "      <th>trailer</th>\n",
              "      <th>...</th>\n",
              "      <th>ObjStm</th>\n",
              "      <th>JS</th>\n",
              "      <th>OBS_JS</th>\n",
              "      <th>Javascript</th>\n",
              "      <th>OBS_Javascript</th>\n",
              "      <th>OpenAction</th>\n",
              "      <th>OBS_OpenAction</th>\n",
              "      <th>Acroform</th>\n",
              "      <th>OBS_Acroform</th>\n",
              "      <th>class</th>\n",
              "    </tr>\n",
              "  </thead>\n",
              "  <tbody>\n",
              "    <tr>\n",
              "      <th>0</th>\n",
              "      <td>44.0</td>\n",
              "      <td>1</td>\n",
              "      <td>0</td>\n",
              "      <td>0</td>\n",
              "      <td>9</td>\n",
              "      <td>8</td>\n",
              "      <td>2</td>\n",
              "      <td>2</td>\n",
              "      <td>1</td>\n",
              "      <td>1</td>\n",
              "      <td>...</td>\n",
              "      <td>0</td>\n",
              "      <td>0</td>\n",
              "      <td>0</td>\n",
              "      <td>0</td>\n",
              "      <td>0</td>\n",
              "      <td>0</td>\n",
              "      <td>0</td>\n",
              "      <td>2</td>\n",
              "      <td>0</td>\n",
              "      <td>0</td>\n",
              "    </tr>\n",
              "    <tr>\n",
              "      <th>1</th>\n",
              "      <td>84.0</td>\n",
              "      <td>1</td>\n",
              "      <td>0</td>\n",
              "      <td>1</td>\n",
              "      <td>10</td>\n",
              "      <td>6</td>\n",
              "      <td>2</td>\n",
              "      <td>2</td>\n",
              "      <td>1</td>\n",
              "      <td>1</td>\n",
              "      <td>...</td>\n",
              "      <td>0</td>\n",
              "      <td>0</td>\n",
              "      <td>0</td>\n",
              "      <td>0</td>\n",
              "      <td>0</td>\n",
              "      <td>0</td>\n",
              "      <td>0</td>\n",
              "      <td>2</td>\n",
              "      <td>0</td>\n",
              "      <td>0</td>\n",
              "    </tr>\n",
              "    <tr>\n",
              "      <th>2</th>\n",
              "      <td>55.0</td>\n",
              "      <td>1</td>\n",
              "      <td>1</td>\n",
              "      <td>1</td>\n",
              "      <td>5</td>\n",
              "      <td>10</td>\n",
              "      <td>2</td>\n",
              "      <td>2</td>\n",
              "      <td>1</td>\n",
              "      <td>1</td>\n",
              "      <td>...</td>\n",
              "      <td>0</td>\n",
              "      <td>0</td>\n",
              "      <td>0</td>\n",
              "      <td>0</td>\n",
              "      <td>0</td>\n",
              "      <td>0</td>\n",
              "      <td>0</td>\n",
              "      <td>2</td>\n",
              "      <td>0</td>\n",
              "      <td>0</td>\n",
              "    </tr>\n",
              "    <tr>\n",
              "      <th>3</th>\n",
              "      <td>47.0</td>\n",
              "      <td>1</td>\n",
              "      <td>0</td>\n",
              "      <td>1</td>\n",
              "      <td>11</td>\n",
              "      <td>10</td>\n",
              "      <td>2</td>\n",
              "      <td>4</td>\n",
              "      <td>1</td>\n",
              "      <td>1</td>\n",
              "      <td>...</td>\n",
              "      <td>0</td>\n",
              "      <td>0</td>\n",
              "      <td>0</td>\n",
              "      <td>0</td>\n",
              "      <td>0</td>\n",
              "      <td>0</td>\n",
              "      <td>0</td>\n",
              "      <td>2</td>\n",
              "      <td>0</td>\n",
              "      <td>0</td>\n",
              "    </tr>\n",
              "    <tr>\n",
              "      <th>4</th>\n",
              "      <td>35.0</td>\n",
              "      <td>1</td>\n",
              "      <td>0</td>\n",
              "      <td>1</td>\n",
              "      <td>9</td>\n",
              "      <td>6</td>\n",
              "      <td>2</td>\n",
              "      <td>3</td>\n",
              "      <td>1</td>\n",
              "      <td>1</td>\n",
              "      <td>...</td>\n",
              "      <td>0</td>\n",
              "      <td>0</td>\n",
              "      <td>0</td>\n",
              "      <td>0</td>\n",
              "      <td>0</td>\n",
              "      <td>0</td>\n",
              "      <td>0</td>\n",
              "      <td>2</td>\n",
              "      <td>0</td>\n",
              "      <td>0</td>\n",
              "    </tr>\n",
              "  </tbody>\n",
              "</table>\n",
              "<p>5 rows × 21 columns</p>\n",
              "</div>\n",
              "      <button class=\"colab-df-convert\" onclick=\"convertToInteractive('df-dd131577-4674-4a8f-a369-030673ca9f10')\"\n",
              "              title=\"Convert this dataframe to an interactive table.\"\n",
              "              style=\"display:none;\">\n",
              "        \n",
              "  <svg xmlns=\"http://www.w3.org/2000/svg\" height=\"24px\"viewBox=\"0 0 24 24\"\n",
              "       width=\"24px\">\n",
              "    <path d=\"M0 0h24v24H0V0z\" fill=\"none\"/>\n",
              "    <path d=\"M18.56 5.44l.94 2.06.94-2.06 2.06-.94-2.06-.94-.94-2.06-.94 2.06-2.06.94zm-11 1L8.5 8.5l.94-2.06 2.06-.94-2.06-.94L8.5 2.5l-.94 2.06-2.06.94zm10 10l.94 2.06.94-2.06 2.06-.94-2.06-.94-.94-2.06-.94 2.06-2.06.94z\"/><path d=\"M17.41 7.96l-1.37-1.37c-.4-.4-.92-.59-1.43-.59-.52 0-1.04.2-1.43.59L10.3 9.45l-7.72 7.72c-.78.78-.78 2.05 0 2.83L4 21.41c.39.39.9.59 1.41.59.51 0 1.02-.2 1.41-.59l7.78-7.78 2.81-2.81c.8-.78.8-2.07 0-2.86zM5.41 20L4 18.59l7.72-7.72 1.47 1.35L5.41 20z\"/>\n",
              "  </svg>\n",
              "      </button>\n",
              "      \n",
              "  <style>\n",
              "    .colab-df-container {\n",
              "      display:flex;\n",
              "      flex-wrap:wrap;\n",
              "      gap: 12px;\n",
              "    }\n",
              "\n",
              "    .colab-df-convert {\n",
              "      background-color: #E8F0FE;\n",
              "      border: none;\n",
              "      border-radius: 50%;\n",
              "      cursor: pointer;\n",
              "      display: none;\n",
              "      fill: #1967D2;\n",
              "      height: 32px;\n",
              "      padding: 0 0 0 0;\n",
              "      width: 32px;\n",
              "    }\n",
              "\n",
              "    .colab-df-convert:hover {\n",
              "      background-color: #E2EBFA;\n",
              "      box-shadow: 0px 1px 2px rgba(60, 64, 67, 0.3), 0px 1px 3px 1px rgba(60, 64, 67, 0.15);\n",
              "      fill: #174EA6;\n",
              "    }\n",
              "\n",
              "    [theme=dark] .colab-df-convert {\n",
              "      background-color: #3B4455;\n",
              "      fill: #D2E3FC;\n",
              "    }\n",
              "\n",
              "    [theme=dark] .colab-df-convert:hover {\n",
              "      background-color: #434B5C;\n",
              "      box-shadow: 0px 1px 3px 1px rgba(0, 0, 0, 0.15);\n",
              "      filter: drop-shadow(0px 1px 2px rgba(0, 0, 0, 0.3));\n",
              "      fill: #FFFFFF;\n",
              "    }\n",
              "  </style>\n",
              "\n",
              "      <script>\n",
              "        const buttonEl =\n",
              "          document.querySelector('#df-dd131577-4674-4a8f-a369-030673ca9f10 button.colab-df-convert');\n",
              "        buttonEl.style.display =\n",
              "          google.colab.kernel.accessAllowed ? 'block' : 'none';\n",
              "\n",
              "        async function convertToInteractive(key) {\n",
              "          const element = document.querySelector('#df-dd131577-4674-4a8f-a369-030673ca9f10');\n",
              "          const dataTable =\n",
              "            await google.colab.kernel.invokeFunction('convertToInteractive',\n",
              "                                                     [key], {});\n",
              "          if (!dataTable) return;\n",
              "\n",
              "          const docLinkHtml = 'Like what you see? Visit the ' +\n",
              "            '<a target=\"_blank\" href=https://colab.research.google.com/notebooks/data_table.ipynb>data table notebook</a>'\n",
              "            + ' to learn more about interactive tables.';\n",
              "          element.innerHTML = '';\n",
              "          dataTable['output_type'] = 'display_data';\n",
              "          await google.colab.output.renderOutput(dataTable, element);\n",
              "          const docLink = document.createElement('div');\n",
              "          docLink.innerHTML = docLinkHtml;\n",
              "          element.appendChild(docLink);\n",
              "        }\n",
              "      </script>\n",
              "    </div>\n",
              "  </div>\n",
              "  "
            ]
          },
          "metadata": {},
          "execution_count": 315
        }
      ]
    },
    {
      "cell_type": "code",
      "source": [
        "new_data = pd.concat([new_data_malware, new_data_not_malware], axis=0)"
      ],
      "metadata": {
        "id": "T07dlOD9pssW"
      },
      "execution_count": null,
      "outputs": []
    },
    {
      "cell_type": "code",
      "source": [
        "len(new_data.drop_duplicates())"
      ],
      "metadata": {
        "colab": {
          "base_uri": "https://localhost:8080/"
        },
        "id": "lOkBiB1I3vA7",
        "outputId": "350fa2f8-a708-4b06-833e-76d63e4c2f63"
      },
      "execution_count": null,
      "outputs": [
        {
          "output_type": "execute_result",
          "data": {
            "text/plain": [
              "496515"
            ]
          },
          "metadata": {},
          "execution_count": 127
        }
      ]
    },
    {
      "cell_type": "code",
      "source": [
        "new_data.to_csv('Generated_Evasive_Samples.csv', index=False)"
      ],
      "metadata": {
        "id": "RExte1053Orj"
      },
      "execution_count": null,
      "outputs": []
    },
    {
      "cell_type": "markdown",
      "source": [
        "###Load Generated Data"
      ],
      "metadata": {
        "id": "R2uYuAxn3hfN"
      }
    },
    {
      "cell_type": "code",
      "source": [
        "new_data = pd.read_csv('Generated_Evasive_Samples.csv')"
      ],
      "metadata": {
        "id": "AmAXorRH3PwT"
      },
      "execution_count": null,
      "outputs": []
    },
    {
      "cell_type": "code",
      "source": [
        "x = new_data.iloc[:,:-1]\n",
        "y = new_data.iloc[:,-1]"
      ],
      "metadata": {
        "id": "vu3hMXPgX50Z"
      },
      "execution_count": null,
      "outputs": []
    },
    {
      "cell_type": "code",
      "source": [
        "fpr_e = []\n",
        "tpr_e = []\n",
        "auc_e = []"
      ],
      "metadata": {
        "id": "DmiH7B3IbPKD"
      },
      "execution_count": null,
      "outputs": []
    },
    {
      "cell_type": "markdown",
      "source": [
        "####Baseline Model"
      ],
      "metadata": {
        "id": "-EpSm7zO3yAO"
      }
    },
    {
      "cell_type": "code",
      "source": [
        "plt.rcParams.update({'font.size': 10})\n",
        "get_metrics(non_evasive_model, x, y)"
      ],
      "metadata": {
        "colab": {
          "base_uri": "https://localhost:8080/",
          "height": 285
        },
        "id": "binECBLw3l_j",
        "outputId": "8bd83ec3-364a-4b5d-aa02-51e75c57f603"
      },
      "execution_count": null,
      "outputs": [
        {
          "output_type": "stream",
          "name": "stdout",
          "text": [
            "0.096882 0.4906376487827142 0.09077777777777778 0.15320885348395433\n"
          ]
        },
        {
          "output_type": "display_data",
          "data": {
            "text/plain": [
              "<Figure size 432x288 with 2 Axes>"
            ],
            "image/png": "[encoded data removed]"
          },
          "metadata": {
            "needs_background": "light"
          }
        }
      ]
    },
    {
      "cell_type": "code",
      "source": [
        "y_true = y\n",
        "x_norm = x.values\n",
        "probs = non_evasive_model.predict_proba(x_norm)\n",
        "fpr0_e, tpr0_e, thresholds0_e = roc_curve(y, probs[:,1])"
      ],
      "metadata": {
        "id": "mwm2N1M4bS_c"
      },
      "execution_count": null,
      "outputs": []
    },
    {
      "cell_type": "code",
      "source": [
        "fpr_e.append(fpr0_e)\n",
        "tpr_e.append(tpr0_e)\n",
        "auc_e.append(auc(fpr0_e, tpr0_e))"
      ],
      "metadata": {
        "id": "lDxNGmb9bihl"
      },
      "execution_count": null,
      "outputs": []
    },
    {
      "cell_type": "markdown",
      "source": [
        "####Approach 1"
      ],
      "metadata": {
        "id": "ffUDFIxg3094"
      }
    },
    {
      "cell_type": "code",
      "source": [
        "get_metrics(adv_model, x, y)"
      ],
      "metadata": {
        "colab": {
          "base_uri": "https://localhost:8080/",
          "height": 283
        },
        "id": "TjiUOOE4329r",
        "outputId": "9840c569-7bc9-4158-a113-602e09afa8da"
      },
      "execution_count": null,
      "outputs": [
        {
          "output_type": "stream",
          "name": "stdout",
          "text": [
            "0.923678 0.9903861037881656 0.9241688888888889 0.9561323948486802\n"
          ]
        },
        {
          "output_type": "display_data",
          "data": {
            "text/plain": [
              "<Figure size 432x288 with 2 Axes>"
            ],
            "image/png": "[encoded data removed]"
          },
          "metadata": {
            "needs_background": "light"
          }
        }
      ]
    },
    {
      "cell_type": "code",
      "source": [
        "from sklearn.metrics import roc_curve\n",
        "y_true = y\n",
        "x_norm = x.values\n",
        "probs = adv_model.predict_proba(x_norm)\n",
        "fpr1_e, tpr1_e, thresholds1_e = roc_curve(y, probs[:,1])"
      ],
      "metadata": {
        "id": "V16cVm1wcXB1"
      },
      "execution_count": null,
      "outputs": []
    },
    {
      "cell_type": "code",
      "source": [
        "fpr_e.append(fpr1_e)\n",
        "tpr_e.append(tpr1_e)\n",
        "auc_e.append(auc(fpr1_e, tpr1_e))"
      ],
      "metadata": {
        "id": "FHwr-WRPcW_O"
      },
      "execution_count": null,
      "outputs": []
    },
    {
      "cell_type": "markdown",
      "source": [
        "####Approach 2"
      ],
      "metadata": {
        "id": "hLVTrquA4B-D"
      }
    },
    {
      "cell_type": "code",
      "source": [
        "pred = predict(x)\n",
        "\n",
        "acc = accuracy_score(y, pred)\n",
        "prec = precision_score(y, pred)\n",
        "rec = recall_score(y, pred)\n",
        "f1 = f1_score(y, pred)\n",
        "\n",
        "print(acc, prec, rec, f1)\n",
        "\n",
        "confusion = confusion_matrix(y, pred, normalize='true')\n",
        "print_confusion_matrix(confusion)"
      ],
      "metadata": {
        "colab": {
          "base_uri": "https://localhost:8080/",
          "height": 283
        },
        "id": "F2n02m2PYxmu",
        "outputId": "d10b21b5-a654-4696-d7f2-b8a2d1c3332d"
      },
      "execution_count": null,
      "outputs": [
        {
          "output_type": "stream",
          "name": "stdout",
          "text": [
            "0.92355 0.9840823859962616 0.9301 0.9563300069117976\n"
          ]
        },
        {
          "output_type": "display_data",
          "data": {
            "text/plain": [
              "<Figure size 432x288 with 2 Axes>"
            ],
            "image/png": "[encoded data removed]"
          },
          "metadata": {
            "needs_background": "light"
          }
        }
      ]
    },
    {
      "cell_type": "code",
      "source": [
        "from sklearn.metrics import roc_curve, auc\n",
        "y_true = y\n",
        "probs = predict_proba(x)\n",
        "fpr2_e, tpr2_e, thresholds2_e = roc_curve(y, probs)"
      ],
      "metadata": {
        "id": "oKOo4Hc_c2Br"
      },
      "execution_count": null,
      "outputs": []
    },
    {
      "cell_type": "code",
      "source": [
        "fpr_e.append(fpr2_e)\n",
        "tpr_e.append(tpr2_e)\n",
        "auc_e.append(auc(fpr2_e, tpr2_e))"
      ],
      "metadata": {
        "id": "bwTmTZv7c3f2"
      },
      "execution_count": null,
      "outputs": []
    },
    {
      "cell_type": "markdown",
      "source": [
        "####Approach 3"
      ],
      "metadata": {
        "id": "vY09diHo4Vk5"
      }
    },
    {
      "cell_type": "code",
      "source": [
        "pred = clf.predict(x)\n",
        "\n",
        "acc = accuracy_score(y, pred[:,0])\n",
        "prec = precision_score(y, pred[:,0])\n",
        "rec = recall_score(y, pred[:,0])\n",
        "f1 = f1_score(y, pred[:,0])\n",
        "\n",
        "print(acc, prec, rec, f1)\n",
        "\n",
        "confusion = confusion_matrix(y, pred[:,0], normalize='true')\n",
        "print_confusion_matrix(confusion)"
      ],
      "metadata": {
        "colab": {
          "base_uri": "https://localhost:8080/",
          "height": 283
        },
        "id": "KBRWZVFsY_H-",
        "outputId": "3f28cda3-a3b6-42bc-ff3f-2f9a46833398"
      },
      "execution_count": null,
      "outputs": [
        {
          "output_type": "stream",
          "name": "stdout",
          "text": [
            "0.924894 0.9899223388156254 0.9259755555555556 0.9568817736422289\n"
          ]
        },
        {
          "output_type": "display_data",
          "data": {
            "text/plain": [
              "<Figure size 432x288 with 2 Axes>"
            ],
            "image/png": "[encoded data removed]"
          },
          "metadata": {
            "needs_background": "light"
          }
        }
      ]
    },
    {
      "cell_type": "code",
      "source": [
        "from sklearn.metrics import roc_curve\n",
        "y_true = y\n",
        "x_norm = x.values\n",
        "probs = clf.predict_proba(x_norm)\n",
        "fpr3_e, tpr3_e, thresholds3 = roc_curve(y, probs[0][:,1])"
      ],
      "metadata": {
        "id": "FYoDrKccdgUR"
      },
      "execution_count": null,
      "outputs": []
    },
    {
      "cell_type": "code",
      "source": [
        "fpr_e.append(fpr3_e)\n",
        "tpr_e.append(tpr3_e)\n",
        "auc_e.append(auc(fpr3_e, tpr3_e))"
      ],
      "metadata": {
        "id": "t6cI6vN2dthz"
      },
      "execution_count": null,
      "outputs": []
    },
    {
      "cell_type": "code",
      "source": [
        "y = np.ones((500000,))\n",
        "x_norm = x.values\n",
        "pred = clf.predict(x_norm)\n",
        "acc = accuracy_score(y, pred[:,1])\n",
        "prec = precision_score(y, pred[:,1])\n",
        "rec = recall_score(y, pred[:,1])\n",
        "f1 = f1_score(y, pred[:,1])\n",
        "\n",
        "print(acc, prec, rec)\n",
        "\n",
        "confusion = confusion_matrix(y, pred[:,1])\n",
        "confusion"
      ],
      "metadata": {
        "colab": {
          "base_uri": "https://localhost:8080/"
        },
        "id": "LZABXRyMZh_F",
        "outputId": "31e80de5-851b-46fa-88a6-ab28b7021286"
      },
      "execution_count": null,
      "outputs": [
        {
          "output_type": "stream",
          "name": "stdout",
          "text": [
            "0.942262 1.0 0.942262\n"
          ]
        },
        {
          "output_type": "execute_result",
          "data": {
            "text/plain": [
              "array([[     0,      0],\n",
              "       [ 28869, 471131]])"
            ]
          },
          "metadata": {},
          "execution_count": 111
        }
      ]
    },
    {
      "cell_type": "code",
      "source": [
        "y = np.ones((500000,))\n",
        "x_norm = x.values\n",
        "pred = evasive_model.predict(x_norm)\n",
        "acc = accuracy_score(y, pred)\n",
        "prec = precision_score(y, pred)\n",
        "rec = recall_score(y, pred)\n",
        "f1 = f1_score(y, pred)\n",
        "\n",
        "print(acc, prec, rec)\n",
        "\n",
        "confusion = confusion_matrix(y, pred)\n",
        "confusion"
      ],
      "metadata": {
        "colab": {
          "base_uri": "https://localhost:8080/"
        },
        "id": "3lUb5OKMhJlP",
        "outputId": "e6d6bf27-e1da-4f16-9d1c-5d3ab50c6be7"
      },
      "execution_count": null,
      "outputs": [
        {
          "output_type": "stream",
          "name": "stdout",
          "text": [
            "0.882918 1.0 0.882918\n"
          ]
        },
        {
          "output_type": "execute_result",
          "data": {
            "text/plain": [
              "array([[     0,      0],\n",
              "       [ 58541, 441459]])"
            ]
          },
          "metadata": {},
          "execution_count": 112
        }
      ]
    },
    {
      "cell_type": "code",
      "source": [
        "plt.rcParams.update({'font.size': 20})\n",
        "plt.figure(figsize = (10,10))\n",
        "lw = 2\n",
        "labels = [\"Baseline\", \"Approach 1\", \"Approach 2\", \"Approach 3\"]\n",
        "colors = [\"blue\", \"red\", \"green\" , \"orange\"]\n",
        "for i in range(4):\n",
        "  plt.plot(\n",
        "      fpr_e[i],\n",
        "      tpr_e[i],\n",
        "      lw=lw,\n",
        "      color = colors[i],\n",
        "      label= labels[i] + \" (area = %0.2f)\" % auc_e[i],\n",
        "  )\n",
        "plt.plot([0, 1], [0, 1], lw=lw, linestyle=\"--\", color='black')\n",
        "plt.xlim([0.0, 1.0])\n",
        "plt.ylim([0.0, 1.05])\n",
        "plt.xlabel(\"False Positive Rate\")\n",
        "plt.ylabel(\"True Positive Rate\")\n",
        "#plt.title(\"Receiver operating characteristic for the baseline and the 3 approaches\")\n",
        "plt.legend(loc=\"lower right\")\n",
        "\n",
        "plt.show()"
      ],
      "metadata": {
        "colab": {
          "base_uri": "https://localhost:8080/",
          "height": 624
        },
        "id": "bxVpKsuweyaZ",
        "outputId": "30beab56-920e-4763-a0d9-b663229b5c00"
      },
      "execution_count": null,
      "outputs": [
        {
          "output_type": "display_data",
          "data": {
            "text/plain": [
              "<Figure size 720x720 with 1 Axes>"
            ],
            "image/png": "[encoded data removed]"
          },
          "metadata": {
            "needs_background": "light"
          }
        }
      ]
    },
    {
      "cell_type": "code",
      "source": [],
      "metadata": {
        "id": "L_TpL5j5_Hg8"
      },
      "execution_count": null,
      "outputs": []
    }
  ]
}